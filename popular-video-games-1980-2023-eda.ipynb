{
 "cells": [
  {
   "attachments": {},
   "cell_type": "markdown",
   "id": "654b2077",
   "metadata": {},
   "source": [
    "<div align=\"center\">\n",
    "\n",
    "[![Open In Colab](https://colab.research.google.com/assets/colab-badge.svg)](https://colab.research.google.com/github/hossam-elshabory/Popular-Video-Games-1980-2023_EDA/blob/main/popular-video-games-1980-2023-eda.ipynb) -OR-\n",
    "[![Open In Kaggle](https://kaggle.com/static/images/open-in-kaggle.svg)](https://www.kaggle.com/code/hossamelshabory97/popular-video-games-1980-2023-eda/notebook)\n",
    "\n",
    "</div>"
   ]
  },
  {
   "cell_type": "markdown",
   "id": "d657e6e5",
   "metadata": {
    "id": "gNjtp85_lsfQ",
    "papermill": {
     "duration": 0.01381,
     "end_time": "2023-04-26T16:27:14.833825",
     "exception": false,
     "start_time": "2023-04-26T16:27:14.820015",
     "status": "completed"
    },
    "tags": []
   },
   "source": [
    "<h1 align=\"center\">Popular Video Games EDA</h1>\n",
    "\n",
    "<div style=\"text-align:center;\">\n",
    "    <img src=\"https://i.imgur.com/sDrZ07n.jpg\" width=800 alt=\"project-banner\">\n",
    "</div>"
   ]
  },
  {
   "cell_type": "markdown",
   "id": "33ca5075",
   "metadata": {
    "id": "QDyHEbO8mXZh",
    "papermill": {
     "duration": 0.011823,
     "end_time": "2023-04-26T16:27:14.858028",
     "exception": false,
     "start_time": "2023-04-26T16:27:14.846205",
     "status": "completed"
    },
    "tags": []
   },
   "source": [
    "# Introduction \n",
    "\n",
    "Video games have become an increasingly popular form of entertainment in recent years, with the industry experiencing tremendous growth and success. Since the release of the first commercial video game, \"Computer Space,\" in 1971, the industry has continued to evolve and expand, with new technologies and platforms constantly being introduced.\n",
    "\n",
    "Today, video games are played by people of all ages and backgrounds, and the gaming community has grown to be a vibrant and passionate group of individuals. The rise of online gaming has allowed gamers to connect and play with others from all over the world, creating a global community that is constantly evolving and growing.\n",
    "\n",
    "\n",
    "### In this project, \n",
    "\n",
    "We will be exploring a dataset of popular video games dating from 1980 to 2023, including \n",
    "- Release dates. \n",
    "- Number of playes.\n",
    "- Number of active players. \n",
    "\n",
    "The dataset also includes information about the platforms on which the games were released, the genres they belong to, and other relevant details.\n",
    "\n",
    "We will be analyzing this dataset to gain insights into various aspects of the video game industry, including \n",
    "\n",
    "- The popularity of different genres. \n",
    "- The trend of games rating over time (release date). \n",
    "- The level of engagement of players with games. \n",
    "\n",
    "Additionally, we will be exploring the phenomenon of \"backlogging,\" which refers to the practice of keeping a list of games that one has yet to play or finish.\n",
    "\n",
    "By delving into this rich dataset, we hope to uncover interesting trends and patterns in the world of video games, and gain a deeper understanding of the gaming community and industry as a whole. So, join us on this exciting journey as we explore the world of video games through data analysis!\n",
    "\n",
    "# [Data Source](https://www.kaggle.com/datasets/arnabchaki/popular-video-games-1980-2023)\n",
    "\n",
    "This dataset contains a list of video games dating from 1980 to 2023, it also provides things such as release dates, user review rating, and critic review rating.\n",
    "\n",
    "Not only can you find the popular games mentioned here but also the obscure indie ones which we have forgotten in time!\n",
    "\n",
    "Backlogged is a video game collection website mixed with social elements to focus on bringing your gaming profile to life. Create a free account to get started on logging the games you've played, and then rating and reviewing as you go! Go into detail with logging platforms, time played, and even a daily journal to keep track your daily gaming progress with playthroughs. It's all tailored to how much you want to log, so that your profile fits you. Then outside of that you can create lists of games, friend other users, follow their activities, and so much more!"
   ]
  },
  {
   "cell_type": "markdown",
   "id": "9a2d255b",
   "metadata": {
    "id": "x4XyKOiimf8o",
    "papermill": {
     "duration": 0.011876,
     "end_time": "2023-04-26T16:27:14.882389",
     "exception": false,
     "start_time": "2023-04-26T16:27:14.870513",
     "status": "completed"
    },
    "tags": []
   },
   "source": [
    "# Importing installing Libraries"
   ]
  },
  {
   "cell_type": "code",
   "execution_count": 1,
   "id": "3b43a6ba",
   "metadata": {
    "execution": {
     "iopub.execute_input": "2023-04-26T16:27:14.910307Z",
     "iopub.status.busy": "2023-04-26T16:27:14.909464Z",
     "iopub.status.idle": "2023-04-26T16:27:16.120678Z",
     "shell.execute_reply": "2023-04-26T16:27:16.119108Z"
    },
    "id": "2YkpX1L3ms2j",
    "papermill": {
     "duration": 1.228195,
     "end_time": "2023-04-26T16:27:16.124030",
     "exception": false,
     "start_time": "2023-04-26T16:27:14.895835",
     "status": "completed"
    },
    "tags": []
   },
   "outputs": [],
   "source": [
    "# Importing pandas for data analysis and manipulation\n",
    "import pandas as pd              \n",
    "# Importing numpy for numerical computations\n",
    "import numpy as np               \n",
    "# Importing seaborn for data visualization\n",
    "import seaborn as sns            \n",
    "# Importing pyplot from matplotlib for data visualization\n",
    "import matplotlib.pyplot as plt  \n",
    "# Importing pyplot from matplotlib.dates for dates manipulation\n",
    "import matplotlib.dates as mdates\n",
    "# Importing tqdm for progress bars in loops\n",
    "from tqdm.notebook import tqdm   \n",
    "\n",
    "# Importing warnings module to handle warning messages\n",
    "import warnings                 \n",
    "\n",
    "# Setting the max columns to be shown by pandas to 500\n",
    "pd.options.display.max_columns = None\n",
    "\n",
    "# Set the float format to display numbers with two decimal places\n",
    "pd.options.display.float_format = '{:.0f}'.format\n",
    "\n",
    "# To ignore all warnings generated by the program\n",
    "warnings.filterwarnings(\"ignore\")  \n",
    "# Setting seaborn style to white\n",
    "sns.set_style(\"white\")            "
   ]
  },
  {
   "cell_type": "markdown",
   "id": "8506e680",
   "metadata": {
    "id": "YGgCfEiJmXkW",
    "papermill": {
     "duration": 0.011856,
     "end_time": "2023-04-26T16:27:16.148181",
     "exception": false,
     "start_time": "2023-04-26T16:27:16.136325",
     "status": "completed"
    },
    "tags": []
   },
   "source": [
    "# Loading in and inspecting the data"
   ]
  },
  {
   "cell_type": "code",
   "execution_count": 2,
   "id": "200e4f56",
   "metadata": {
    "execution": {
     "iopub.execute_input": "2023-04-26T16:27:16.176350Z",
     "iopub.status.busy": "2023-04-26T16:27:16.174784Z",
     "iopub.status.idle": "2023-04-26T16:27:16.317767Z",
     "shell.execute_reply": "2023-04-26T16:27:16.316688Z"
    },
    "id": "VgKfvtUaliW0",
    "papermill": {
     "duration": 0.160479,
     "end_time": "2023-04-26T16:27:16.321097",
     "exception": false,
     "start_time": "2023-04-26T16:27:16.160618",
     "status": "completed"
    },
    "tags": []
   },
   "outputs": [
    {
     "data": {
      "text/html": [
       "<div>\n",
       "<style scoped>\n",
       "    .dataframe tbody tr th:only-of-type {\n",
       "        vertical-align: middle;\n",
       "    }\n",
       "\n",
       "    .dataframe tbody tr th {\n",
       "        vertical-align: top;\n",
       "    }\n",
       "\n",
       "    .dataframe thead th {\n",
       "        text-align: right;\n",
       "    }\n",
       "</style>\n",
       "<table border=\"1\" class=\"dataframe\">\n",
       "  <thead>\n",
       "    <tr style=\"text-align: right;\">\n",
       "      <th></th>\n",
       "      <th>Unnamed: 0</th>\n",
       "      <th>Title</th>\n",
       "      <th>Release Date</th>\n",
       "      <th>Team</th>\n",
       "      <th>Rating</th>\n",
       "      <th>Times Listed</th>\n",
       "      <th>Number of Reviews</th>\n",
       "      <th>Genres</th>\n",
       "      <th>Summary</th>\n",
       "      <th>Reviews</th>\n",
       "      <th>Plays</th>\n",
       "      <th>Playing</th>\n",
       "      <th>Backlogs</th>\n",
       "      <th>Wishlist</th>\n",
       "    </tr>\n",
       "  </thead>\n",
       "  <tbody>\n",
       "    <tr>\n",
       "      <th>0</th>\n",
       "      <td>0</td>\n",
       "      <td>Elden Ring</td>\n",
       "      <td>Feb 25, 2022</td>\n",
       "      <td>['Bandai Namco Entertainment', 'FromSoftware']</td>\n",
       "      <td>4</td>\n",
       "      <td>3.9K</td>\n",
       "      <td>3.9K</td>\n",
       "      <td>['Adventure', 'RPG']</td>\n",
       "      <td>Elden Ring is a fantasy, action and open world...</td>\n",
       "      <td>[\"The first playthrough of elden ring is one o...</td>\n",
       "      <td>17K</td>\n",
       "      <td>3.8K</td>\n",
       "      <td>4.6K</td>\n",
       "      <td>4.8K</td>\n",
       "    </tr>\n",
       "    <tr>\n",
       "      <th>1</th>\n",
       "      <td>1</td>\n",
       "      <td>Hades</td>\n",
       "      <td>Dec 10, 2019</td>\n",
       "      <td>['Supergiant Games']</td>\n",
       "      <td>4</td>\n",
       "      <td>2.9K</td>\n",
       "      <td>2.9K</td>\n",
       "      <td>['Adventure', 'Brawler', 'Indie', 'RPG']</td>\n",
       "      <td>A rogue-lite hack and slash dungeon crawler in...</td>\n",
       "      <td>['convinced this is a roguelike for people who...</td>\n",
       "      <td>21K</td>\n",
       "      <td>3.2K</td>\n",
       "      <td>6.3K</td>\n",
       "      <td>3.6K</td>\n",
       "    </tr>\n",
       "    <tr>\n",
       "      <th>2</th>\n",
       "      <td>2</td>\n",
       "      <td>The Legend of Zelda: Breath of the Wild</td>\n",
       "      <td>Mar 03, 2017</td>\n",
       "      <td>['Nintendo', 'Nintendo EPD Production Group No...</td>\n",
       "      <td>4</td>\n",
       "      <td>4.3K</td>\n",
       "      <td>4.3K</td>\n",
       "      <td>['Adventure', 'RPG']</td>\n",
       "      <td>The Legend of Zelda: Breath of the Wild is the...</td>\n",
       "      <td>['This game is the game (that is not CS:GO) th...</td>\n",
       "      <td>30K</td>\n",
       "      <td>2.5K</td>\n",
       "      <td>5K</td>\n",
       "      <td>2.6K</td>\n",
       "    </tr>\n",
       "    <tr>\n",
       "      <th>3</th>\n",
       "      <td>3</td>\n",
       "      <td>Undertale</td>\n",
       "      <td>Sep 15, 2015</td>\n",
       "      <td>['tobyfox', '8-4']</td>\n",
       "      <td>4</td>\n",
       "      <td>3.5K</td>\n",
       "      <td>3.5K</td>\n",
       "      <td>['Adventure', 'Indie', 'RPG', 'Turn Based Stra...</td>\n",
       "      <td>A small child falls into the Underground, wher...</td>\n",
       "      <td>['soundtrack is tied for #1 with nier automata...</td>\n",
       "      <td>28K</td>\n",
       "      <td>679</td>\n",
       "      <td>4.9K</td>\n",
       "      <td>1.8K</td>\n",
       "    </tr>\n",
       "    <tr>\n",
       "      <th>4</th>\n",
       "      <td>4</td>\n",
       "      <td>Hollow Knight</td>\n",
       "      <td>Feb 24, 2017</td>\n",
       "      <td>['Team Cherry']</td>\n",
       "      <td>4</td>\n",
       "      <td>3K</td>\n",
       "      <td>3K</td>\n",
       "      <td>['Adventure', 'Indie', 'Platform']</td>\n",
       "      <td>A 2D metroidvania with an emphasis on close co...</td>\n",
       "      <td>[\"this games worldbuilding is incredible, with...</td>\n",
       "      <td>21K</td>\n",
       "      <td>2.4K</td>\n",
       "      <td>8.3K</td>\n",
       "      <td>2.3K</td>\n",
       "    </tr>\n",
       "  </tbody>\n",
       "</table>\n",
       "</div>"
      ],
      "text/plain": [
       "   Unnamed: 0                                    Title  Release Date  \\\n",
       "0           0                               Elden Ring  Feb 25, 2022   \n",
       "1           1                                    Hades  Dec 10, 2019   \n",
       "2           2  The Legend of Zelda: Breath of the Wild  Mar 03, 2017   \n",
       "3           3                                Undertale  Sep 15, 2015   \n",
       "4           4                            Hollow Knight  Feb 24, 2017   \n",
       "\n",
       "                                                Team  Rating Times Listed  \\\n",
       "0     ['Bandai Namco Entertainment', 'FromSoftware']       4         3.9K   \n",
       "1                               ['Supergiant Games']       4         2.9K   \n",
       "2  ['Nintendo', 'Nintendo EPD Production Group No...       4         4.3K   \n",
       "3                                 ['tobyfox', '8-4']       4         3.5K   \n",
       "4                                    ['Team Cherry']       4           3K   \n",
       "\n",
       "  Number of Reviews                                             Genres  \\\n",
       "0              3.9K                               ['Adventure', 'RPG']   \n",
       "1              2.9K           ['Adventure', 'Brawler', 'Indie', 'RPG']   \n",
       "2              4.3K                               ['Adventure', 'RPG']   \n",
       "3              3.5K  ['Adventure', 'Indie', 'RPG', 'Turn Based Stra...   \n",
       "4                3K                 ['Adventure', 'Indie', 'Platform']   \n",
       "\n",
       "                                             Summary  \\\n",
       "0  Elden Ring is a fantasy, action and open world...   \n",
       "1  A rogue-lite hack and slash dungeon crawler in...   \n",
       "2  The Legend of Zelda: Breath of the Wild is the...   \n",
       "3  A small child falls into the Underground, wher...   \n",
       "4  A 2D metroidvania with an emphasis on close co...   \n",
       "\n",
       "                                             Reviews Plays Playing Backlogs  \\\n",
       "0  [\"The first playthrough of elden ring is one o...   17K    3.8K     4.6K   \n",
       "1  ['convinced this is a roguelike for people who...   21K    3.2K     6.3K   \n",
       "2  ['This game is the game (that is not CS:GO) th...   30K    2.5K       5K   \n",
       "3  ['soundtrack is tied for #1 with nier automata...   28K     679     4.9K   \n",
       "4  [\"this games worldbuilding is incredible, with...   21K    2.4K     8.3K   \n",
       "\n",
       "  Wishlist  \n",
       "0     4.8K  \n",
       "1     3.6K  \n",
       "2     2.6K  \n",
       "3     1.8K  \n",
       "4     2.3K  "
      ]
     },
     "execution_count": 2,
     "metadata": {},
     "output_type": "execute_result"
    }
   ],
   "source": [
    "# Reading the data\n",
    "df = pd.read_csv(\"/kaggle/input/popular-video-games-1980-2023/games.csv\")\n",
    "\n",
    "# Showing first 5 rows\n",
    "df.head()"
   ]
  },
  {
   "cell_type": "code",
   "execution_count": 3,
   "id": "aeb74b31",
   "metadata": {
    "execution": {
     "iopub.execute_input": "2023-04-26T16:27:16.349415Z",
     "iopub.status.busy": "2023-04-26T16:27:16.348541Z",
     "iopub.status.idle": "2023-04-26T16:27:16.375363Z",
     "shell.execute_reply": "2023-04-26T16:27:16.374132Z"
    },
    "papermill": {
     "duration": 0.044543,
     "end_time": "2023-04-26T16:27:16.378438",
     "exception": false,
     "start_time": "2023-04-26T16:27:16.333895",
     "status": "completed"
    },
    "tags": []
   },
   "outputs": [
    {
     "name": "stdout",
     "output_type": "stream",
     "text": [
      "<class 'pandas.core.frame.DataFrame'>\n",
      "RangeIndex: 1512 entries, 0 to 1511\n",
      "Data columns (total 14 columns):\n",
      " #   Column             Non-Null Count  Dtype  \n",
      "---  ------             --------------  -----  \n",
      " 0   Unnamed: 0         1512 non-null   int64  \n",
      " 1   Title              1512 non-null   object \n",
      " 2   Release Date       1512 non-null   object \n",
      " 3   Team               1511 non-null   object \n",
      " 4   Rating             1499 non-null   float64\n",
      " 5   Times Listed       1512 non-null   object \n",
      " 6   Number of Reviews  1512 non-null   object \n",
      " 7   Genres             1512 non-null   object \n",
      " 8   Summary            1511 non-null   object \n",
      " 9   Reviews            1512 non-null   object \n",
      " 10  Plays              1512 non-null   object \n",
      " 11  Playing            1512 non-null   object \n",
      " 12  Backlogs           1512 non-null   object \n",
      " 13  Wishlist           1512 non-null   object \n",
      "dtypes: float64(1), int64(1), object(12)\n",
      "memory usage: 165.5+ KB\n"
     ]
    }
   ],
   "source": [
    "# Viewing the dataset Metadata\n",
    "df.info()"
   ]
  },
  {
   "cell_type": "code",
   "execution_count": 4,
   "id": "e7c69319",
   "metadata": {
    "execution": {
     "iopub.execute_input": "2023-04-26T16:27:16.406914Z",
     "iopub.status.busy": "2023-04-26T16:27:16.406100Z",
     "iopub.status.idle": "2023-04-26T16:27:16.430134Z",
     "shell.execute_reply": "2023-04-26T16:27:16.428802Z"
    },
    "papermill": {
     "duration": 0.041109,
     "end_time": "2023-04-26T16:27:16.432641",
     "exception": false,
     "start_time": "2023-04-26T16:27:16.391532",
     "status": "completed"
    },
    "tags": []
   },
   "outputs": [
    {
     "data": {
      "text/plain": [
       "0"
      ]
     },
     "execution_count": 4,
     "metadata": {},
     "output_type": "execute_result"
    }
   ],
   "source": [
    "df.duplicated().sum()"
   ]
  },
  {
   "cell_type": "code",
   "execution_count": 5,
   "id": "5303597e",
   "metadata": {
    "execution": {
     "iopub.execute_input": "2023-04-26T16:27:16.461202Z",
     "iopub.status.busy": "2023-04-26T16:27:16.460322Z",
     "iopub.status.idle": "2023-04-26T16:27:16.478634Z",
     "shell.execute_reply": "2023-04-26T16:27:16.477358Z"
    },
    "papermill": {
     "duration": 0.03588,
     "end_time": "2023-04-26T16:27:16.481492",
     "exception": false,
     "start_time": "2023-04-26T16:27:16.445612",
     "status": "completed"
    },
    "tags": []
   },
   "outputs": [
    {
     "data": {
      "text/html": [
       "<div>\n",
       "<style scoped>\n",
       "    .dataframe tbody tr th:only-of-type {\n",
       "        vertical-align: middle;\n",
       "    }\n",
       "\n",
       "    .dataframe tbody tr th {\n",
       "        vertical-align: top;\n",
       "    }\n",
       "\n",
       "    .dataframe thead th {\n",
       "        text-align: right;\n",
       "    }\n",
       "</style>\n",
       "<table border=\"1\" class=\"dataframe\">\n",
       "  <thead>\n",
       "    <tr style=\"text-align: right;\">\n",
       "      <th></th>\n",
       "      <th>Unnamed: 0</th>\n",
       "      <th>Title</th>\n",
       "      <th>Release Date</th>\n",
       "      <th>Team</th>\n",
       "      <th>Rating</th>\n",
       "      <th>Times Listed</th>\n",
       "      <th>Number of Reviews</th>\n",
       "      <th>Genres</th>\n",
       "      <th>Summary</th>\n",
       "      <th>Reviews</th>\n",
       "      <th>Plays</th>\n",
       "      <th>Playing</th>\n",
       "      <th>Backlogs</th>\n",
       "      <th>Wishlist</th>\n",
       "    </tr>\n",
       "  </thead>\n",
       "  <tbody>\n",
       "    <tr>\n",
       "      <th>0</th>\n",
       "      <td>0</td>\n",
       "      <td>0</td>\n",
       "      <td>0</td>\n",
       "      <td>1</td>\n",
       "      <td>13</td>\n",
       "      <td>0</td>\n",
       "      <td>0</td>\n",
       "      <td>0</td>\n",
       "      <td>1</td>\n",
       "      <td>0</td>\n",
       "      <td>0</td>\n",
       "      <td>0</td>\n",
       "      <td>0</td>\n",
       "      <td>0</td>\n",
       "    </tr>\n",
       "  </tbody>\n",
       "</table>\n",
       "</div>"
      ],
      "text/plain": [
       "   Unnamed: 0  Title  Release Date  Team  Rating  Times Listed  \\\n",
       "0           0      0             0     1      13             0   \n",
       "\n",
       "   Number of Reviews  Genres  Summary  Reviews  Plays  Playing  Backlogs  \\\n",
       "0                  0       0        1        0      0        0         0   \n",
       "\n",
       "   Wishlist  \n",
       "0         0  "
      ]
     },
     "execution_count": 5,
     "metadata": {},
     "output_type": "execute_result"
    }
   ],
   "source": [
    "df.isnull().sum().to_frame().T"
   ]
  },
  {
   "cell_type": "markdown",
   "id": "e2e6a807",
   "metadata": {
    "papermill": {
     "duration": 0.01272,
     "end_time": "2023-04-26T16:27:16.507221",
     "exception": false,
     "start_time": "2023-04-26T16:27:16.494501",
     "status": "completed"
    },
    "tags": []
   },
   "source": [
    "## Observations For Data Wrangling :\n",
    "---\n",
    "\n",
    "- The column `'Unnamed: 0'` seems to be an extra index column (probably left over from the data scrapping process.), it should be removed.\n",
    "\n",
    "- Columns names are not consistent in their naming format, which might cause confusion and type errors.\n",
    "\n",
    "- The (`Team`, `Number of Reviews`, `Summary`, `Reviews`) are not relevant to the analysis we are going to conduct.\n",
    "\n",
    "- The naming of the (`Plays` and `playing`) columns is not descriptive and confusing.\n",
    "\n",
    "- The columns that **should be presenting numerical values uses** a 'nK' format to present numbers in thousands and they are in object (string) date-type.\n",
    "\n",
    "- The `release date` column is **not in date time format**.\n",
    "\n",
    "- There are **0** duplicated values.\n",
    "\n",
    "- The `Rating` column has **13 missing values**.\n"
   ]
  },
  {
   "cell_type": "markdown",
   "id": "8552027a",
   "metadata": {
    "id": "Gp0rQV2pmma5",
    "papermill": {
     "duration": 0.012238,
     "end_time": "2023-04-26T16:27:16.532338",
     "exception": false,
     "start_time": "2023-04-26T16:27:16.520100",
     "status": "completed"
    },
    "tags": []
   },
   "source": [
    "# Data Preparation (Wrangling)"
   ]
  },
  {
   "cell_type": "markdown",
   "id": "f733c89c",
   "metadata": {
    "papermill": {
     "duration": 0.013118,
     "end_time": "2023-04-26T16:27:16.558447",
     "exception": false,
     "start_time": "2023-04-26T16:27:16.545329",
     "status": "completed"
    },
    "tags": []
   },
   "source": [
    "## Defining utility functions to help with the data wrangling."
   ]
  },
  {
   "cell_type": "code",
   "execution_count": 6,
   "id": "76407012",
   "metadata": {
    "execution": {
     "iopub.execute_input": "2023-04-26T16:27:16.589872Z",
     "iopub.status.busy": "2023-04-26T16:27:16.588832Z",
     "iopub.status.idle": "2023-04-26T16:27:16.602245Z",
     "shell.execute_reply": "2023-04-26T16:27:16.600509Z"
    },
    "papermill": {
     "duration": 0.032371,
     "end_time": "2023-04-26T16:27:16.605621",
     "exception": false,
     "start_time": "2023-04-26T16:27:16.573250",
     "status": "completed"
    },
    "tags": []
   },
   "outputs": [],
   "source": [
    "def clean_column_names(df: pd.DataFrame) -> pd.DataFrame:\n",
    "    \"\"\"\n",
    "    Rename columns in a DataFrame to lowercase with underscores instead of spaces.\n",
    "\n",
    "    Parameters\n",
    "    ----------\n",
    "    df : pd.DataFrame\n",
    "        The DataFrame containing the columns to be renamed.\n",
    "\n",
    "    Returns\n",
    "    -------\n",
    "    pd.DataFrame\n",
    "        The DataFrame with renamed columns.\n",
    "    \"\"\"\n",
    "\n",
    "    # Use list comprehension to create a new list of column names with spaces replaced by underscores and all lowercase letters\n",
    "    new_columns = [col.lower().replace(\" \", \"_\") for col in df.columns]\n",
    "\n",
    "    # Use the pandas DataFrame rename() method to rename the columns using the new column names list\n",
    "    df = df.rename(columns=dict(zip(df.columns, new_columns)))\n",
    "\n",
    "    return df\n",
    "\n",
    "\n",
    "\n",
    "def drop_columns(df: pd.DataFrame, cols_to_drop: list = None, \n",
    "                 idx_to_drop: list = None) -> pd.DataFrame:\n",
    "    \"\"\"\n",
    "    Drops the specified columns from a pandas DataFrame and returns a new DataFrame with the columns removed.\n",
    "    \n",
    "    Args:\n",
    "    - df: A pandas DataFrame.\n",
    "    - cols_to_drop: (Optional) A list of column names to drop from the DataFrame.\n",
    "    - idx_to_drop: (Optional) A list of row indices to drop from the DataFrame.\n",
    "    \n",
    "    Returns:\n",
    "    - A new pandas DataFrame with the specified columns and/or rows removed.\n",
    "    \n",
    "    Example:\n",
    "    \n",
    "    ```\n",
    "    df = drop_columns(df, cols_to_drop=['column1', 'column2'], [3, 4])\n",
    "    df = drop_columns(df, idx_to_drop=['column1.index', 'column2.index'], [3, 4])\n",
    "\n",
    "    ```\n",
    "    \"\"\"\n",
    "    # Create a copy of the original DataFrame\n",
    "    new_df = df.copy()\n",
    "\n",
    "    # Drop the specified columns from the DataFrame\n",
    "    if cols_to_drop is not None:\n",
    "        new_df = new_df.drop(columns=cols_to_drop)\n",
    "\n",
    "    # Drop the specified rows from the DataFrame, if any\n",
    "    if idx_to_drop is not None:\n",
    "        new_df = new_df.drop(index=idx_to_drop)\n",
    "\n",
    "    return new_df\n",
    "\n",
    "\n",
    "\n",
    "def convert_str_num_to_int(df: pd.DataFrame, col_names: list) -> pd.DataFrame:\n",
    "    \"\"\"\n",
    "    Converts string numerical values in a dataframe to int.\n",
    "\n",
    "    Parameters:\n",
    "        df (pandas.DataFrame): The dataframe to convert.\n",
    "        col_names (list): A list of column names containing string numerical values.\n",
    "\n",
    "    Returns:\n",
    "        pandas.DataFrame: The modified dataframe.\n",
    "    \"\"\"\n",
    "    \n",
    "    # Talking a copy of the provided dataframe\n",
    "    new_df = df.copy()\n",
    "    \n",
    "    # Looping over the columns names list and chaning   \n",
    "    for col in col_names:\n",
    "        # Replace 'K' with '000' and '.' with ''\n",
    "        new_df[col] = new_df[col].str.replace(\"K\", \"000\").str.replace(\".\", \"\")\n",
    "\n",
    "        # Convert column to int type\n",
    "        new_df[col] = new_df[col].astype(int)\n",
    "\n",
    "    return new_df"
   ]
  },
  {
   "cell_type": "markdown",
   "id": "338594fb",
   "metadata": {
    "papermill": {
     "duration": 0.012738,
     "end_time": "2023-04-26T16:27:16.631747",
     "exception": false,
     "start_time": "2023-04-26T16:27:16.619009",
     "status": "completed"
    },
    "tags": []
   },
   "source": [
    "### Dropping the extra index column \"Unamed: 0\" and the irrelevant columns (Team, Number of Reviews, Summary, Reviews) "
   ]
  },
  {
   "cell_type": "code",
   "execution_count": 7,
   "id": "a2b9abee",
   "metadata": {
    "execution": {
     "iopub.execute_input": "2023-04-26T16:27:16.660127Z",
     "iopub.status.busy": "2023-04-26T16:27:16.659626Z",
     "iopub.status.idle": "2023-04-26T16:27:16.678167Z",
     "shell.execute_reply": "2023-04-26T16:27:16.676946Z"
    },
    "id": "ER0LUdbMmseU",
    "papermill": {
     "duration": 0.035805,
     "end_time": "2023-04-26T16:27:16.680629",
     "exception": false,
     "start_time": "2023-04-26T16:27:16.644824",
     "status": "completed"
    },
    "tags": []
   },
   "outputs": [
    {
     "data": {
      "text/html": [
       "<div>\n",
       "<style scoped>\n",
       "    .dataframe tbody tr th:only-of-type {\n",
       "        vertical-align: middle;\n",
       "    }\n",
       "\n",
       "    .dataframe tbody tr th {\n",
       "        vertical-align: top;\n",
       "    }\n",
       "\n",
       "    .dataframe thead th {\n",
       "        text-align: right;\n",
       "    }\n",
       "</style>\n",
       "<table border=\"1\" class=\"dataframe\">\n",
       "  <thead>\n",
       "    <tr style=\"text-align: right;\">\n",
       "      <th></th>\n",
       "      <th>Title</th>\n",
       "      <th>Release Date</th>\n",
       "      <th>Rating</th>\n",
       "      <th>Genres</th>\n",
       "      <th>Plays</th>\n",
       "      <th>Playing</th>\n",
       "      <th>Backlogs</th>\n",
       "      <th>Wishlist</th>\n",
       "    </tr>\n",
       "  </thead>\n",
       "  <tbody>\n",
       "    <tr>\n",
       "      <th>0</th>\n",
       "      <td>Elden Ring</td>\n",
       "      <td>Feb 25, 2022</td>\n",
       "      <td>4</td>\n",
       "      <td>['Adventure', 'RPG']</td>\n",
       "      <td>17K</td>\n",
       "      <td>3.8K</td>\n",
       "      <td>4.6K</td>\n",
       "      <td>4.8K</td>\n",
       "    </tr>\n",
       "    <tr>\n",
       "      <th>1</th>\n",
       "      <td>Hades</td>\n",
       "      <td>Dec 10, 2019</td>\n",
       "      <td>4</td>\n",
       "      <td>['Adventure', 'Brawler', 'Indie', 'RPG']</td>\n",
       "      <td>21K</td>\n",
       "      <td>3.2K</td>\n",
       "      <td>6.3K</td>\n",
       "      <td>3.6K</td>\n",
       "    </tr>\n",
       "    <tr>\n",
       "      <th>2</th>\n",
       "      <td>The Legend of Zelda: Breath of the Wild</td>\n",
       "      <td>Mar 03, 2017</td>\n",
       "      <td>4</td>\n",
       "      <td>['Adventure', 'RPG']</td>\n",
       "      <td>30K</td>\n",
       "      <td>2.5K</td>\n",
       "      <td>5K</td>\n",
       "      <td>2.6K</td>\n",
       "    </tr>\n",
       "    <tr>\n",
       "      <th>3</th>\n",
       "      <td>Undertale</td>\n",
       "      <td>Sep 15, 2015</td>\n",
       "      <td>4</td>\n",
       "      <td>['Adventure', 'Indie', 'RPG', 'Turn Based Stra...</td>\n",
       "      <td>28K</td>\n",
       "      <td>679</td>\n",
       "      <td>4.9K</td>\n",
       "      <td>1.8K</td>\n",
       "    </tr>\n",
       "    <tr>\n",
       "      <th>4</th>\n",
       "      <td>Hollow Knight</td>\n",
       "      <td>Feb 24, 2017</td>\n",
       "      <td>4</td>\n",
       "      <td>['Adventure', 'Indie', 'Platform']</td>\n",
       "      <td>21K</td>\n",
       "      <td>2.4K</td>\n",
       "      <td>8.3K</td>\n",
       "      <td>2.3K</td>\n",
       "    </tr>\n",
       "  </tbody>\n",
       "</table>\n",
       "</div>"
      ],
      "text/plain": [
       "                                     Title  Release Date  Rating  \\\n",
       "0                               Elden Ring  Feb 25, 2022       4   \n",
       "1                                    Hades  Dec 10, 2019       4   \n",
       "2  The Legend of Zelda: Breath of the Wild  Mar 03, 2017       4   \n",
       "3                                Undertale  Sep 15, 2015       4   \n",
       "4                            Hollow Knight  Feb 24, 2017       4   \n",
       "\n",
       "                                              Genres Plays Playing Backlogs  \\\n",
       "0                               ['Adventure', 'RPG']   17K    3.8K     4.6K   \n",
       "1           ['Adventure', 'Brawler', 'Indie', 'RPG']   21K    3.2K     6.3K   \n",
       "2                               ['Adventure', 'RPG']   30K    2.5K       5K   \n",
       "3  ['Adventure', 'Indie', 'RPG', 'Turn Based Stra...   28K     679     4.9K   \n",
       "4                 ['Adventure', 'Indie', 'Platform']   21K    2.4K     8.3K   \n",
       "\n",
       "  Wishlist  \n",
       "0     4.8K  \n",
       "1     3.6K  \n",
       "2     2.6K  \n",
       "3     1.8K  \n",
       "4     2.3K  "
      ]
     },
     "execution_count": 7,
     "metadata": {},
     "output_type": "execute_result"
    }
   ],
   "source": [
    "# Defining the columns to drop\n",
    "cols_names = [\"Unnamed: 0\", \"Team\", \"Reviews\", \"Summary\", \"Number of Reviews\", \"Times Listed\"]\n",
    "\n",
    "# Calling the drop columns function\n",
    "df = drop_columns(df, cols_names)\n",
    "\n",
    "# Checking the results\n",
    "df.head()"
   ]
  },
  {
   "cell_type": "markdown",
   "id": "f50e25d7",
   "metadata": {
    "papermill": {
     "duration": 0.012665,
     "end_time": "2023-04-26T16:27:16.707638",
     "exception": false,
     "start_time": "2023-04-26T16:27:16.694973",
     "status": "completed"
    },
    "tags": []
   },
   "source": [
    "### Changing the `Release date` column to datetime date type"
   ]
  },
  {
   "cell_type": "code",
   "execution_count": 8,
   "id": "3887c6b9",
   "metadata": {
    "execution": {
     "iopub.execute_input": "2023-04-26T16:27:16.735903Z",
     "iopub.status.busy": "2023-04-26T16:27:16.735420Z",
     "iopub.status.idle": "2023-04-26T16:27:16.751749Z",
     "shell.execute_reply": "2023-04-26T16:27:16.750822Z"
    },
    "papermill": {
     "duration": 0.033188,
     "end_time": "2023-04-26T16:27:16.753893",
     "exception": false,
     "start_time": "2023-04-26T16:27:16.720705",
     "status": "completed"
    },
    "tags": []
   },
   "outputs": [
    {
     "data": {
      "text/html": [
       "<div>\n",
       "<style scoped>\n",
       "    .dataframe tbody tr th:only-of-type {\n",
       "        vertical-align: middle;\n",
       "    }\n",
       "\n",
       "    .dataframe tbody tr th {\n",
       "        vertical-align: top;\n",
       "    }\n",
       "\n",
       "    .dataframe thead th {\n",
       "        text-align: right;\n",
       "    }\n",
       "</style>\n",
       "<table border=\"1\" class=\"dataframe\">\n",
       "  <thead>\n",
       "    <tr style=\"text-align: right;\">\n",
       "      <th></th>\n",
       "      <th>Title</th>\n",
       "      <th>Release Date</th>\n",
       "      <th>Rating</th>\n",
       "      <th>Genres</th>\n",
       "      <th>Plays</th>\n",
       "      <th>Playing</th>\n",
       "      <th>Backlogs</th>\n",
       "      <th>Wishlist</th>\n",
       "    </tr>\n",
       "  </thead>\n",
       "  <tbody>\n",
       "    <tr>\n",
       "      <th>644</th>\n",
       "      <td>Deltarune</td>\n",
       "      <td>releases on TBD</td>\n",
       "      <td>4</td>\n",
       "      <td>['Adventure', 'Indie', 'Music', 'Puzzle', 'RPG']</td>\n",
       "      <td>1.3K</td>\n",
       "      <td>83</td>\n",
       "      <td>468</td>\n",
       "      <td>617</td>\n",
       "    </tr>\n",
       "    <tr>\n",
       "      <th>649</th>\n",
       "      <td>Death Stranding 2</td>\n",
       "      <td>releases on TBD</td>\n",
       "      <td>NaN</td>\n",
       "      <td>['Adventure', 'Shooter']</td>\n",
       "      <td>3</td>\n",
       "      <td>0</td>\n",
       "      <td>209</td>\n",
       "      <td>644</td>\n",
       "    </tr>\n",
       "    <tr>\n",
       "      <th>1252</th>\n",
       "      <td>Elden Ring: Shadow of the Erdtree</td>\n",
       "      <td>releases on TBD</td>\n",
       "      <td>5</td>\n",
       "      <td>['Adventure', 'RPG']</td>\n",
       "      <td>1</td>\n",
       "      <td>0</td>\n",
       "      <td>39</td>\n",
       "      <td>146</td>\n",
       "    </tr>\n",
       "  </tbody>\n",
       "</table>\n",
       "</div>"
      ],
      "text/plain": [
       "                                  Title     Release Date  Rating  \\\n",
       "644                           Deltarune  releases on TBD       4   \n",
       "649                   Death Stranding 2  releases on TBD     NaN   \n",
       "1252  Elden Ring: Shadow of the Erdtree  releases on TBD       5   \n",
       "\n",
       "                                                Genres Plays Playing Backlogs  \\\n",
       "644   ['Adventure', 'Indie', 'Music', 'Puzzle', 'RPG']  1.3K      83      468   \n",
       "649                           ['Adventure', 'Shooter']     3       0      209   \n",
       "1252                              ['Adventure', 'RPG']     1       0       39   \n",
       "\n",
       "     Wishlist  \n",
       "644       617  \n",
       "649       644  \n",
       "1252      146  "
      ]
     },
     "execution_count": 8,
     "metadata": {},
     "output_type": "execute_result"
    }
   ],
   "source": [
    "# df[\"Release Date\"] = pd.to_datetime(df[\"Release Date\"]) !#=> Error: ParserError: Unknown string format: releases on TBD\n",
    "\n",
    "# Taking a look at the Release Date column  \n",
    "cond = df[\"Release Date\"] == \"releases on TBD\"\n",
    "\n",
    "# Filtering the dataset\n",
    "df[cond]"
   ]
  },
  {
   "cell_type": "markdown",
   "id": "90a3c8dd",
   "metadata": {
    "papermill": {
     "duration": 0.013204,
     "end_time": "2023-04-26T16:27:16.780732",
     "exception": false,
     "start_time": "2023-04-26T16:27:16.767528",
     "status": "completed"
    },
    "tags": []
   },
   "source": [
    "When attempting to change the `Release Date` column to a datetime data type, a `ParserError` occurred with the message \"Unknown string format: releases on TBD\". After investigating the issue, I found that three games in the dataset had a value of **\"releases on TBD\"** instead of a valid date format in the `Release Date` column.\n",
    "\n",
    "\n",
    "As Deltarune and Death Stranding 2 have not been released yet, **their missing release dates are understandable.** However, as these missing values are **not useful for our analysis**, these games will be dropped from the dataset.\n",
    "\n",
    "The third game with a missing release date was Elden Ring: Shadow of the Erdtree, which was released on February 28, 2023. Although this game is popular, **its data is not useful in this dataset due to the missing Release Date value**. Therefore, it will also be dropped from the dataset."
   ]
  },
  {
   "cell_type": "markdown",
   "id": "02ea5952",
   "metadata": {
    "papermill": {
     "duration": 0.013066,
     "end_time": "2023-04-26T16:27:16.807564",
     "exception": false,
     "start_time": "2023-04-26T16:27:16.794498",
     "status": "completed"
    },
    "tags": []
   },
   "source": [
    "### Dropping the 3 rows with the `releases on TBD` value in the `Release Date` column."
   ]
  },
  {
   "cell_type": "code",
   "execution_count": 9,
   "id": "8ae2e81f",
   "metadata": {
    "execution": {
     "iopub.execute_input": "2023-04-26T16:27:16.837645Z",
     "iopub.status.busy": "2023-04-26T16:27:16.837053Z",
     "iopub.status.idle": "2023-04-26T16:27:16.845045Z",
     "shell.execute_reply": "2023-04-26T16:27:16.843527Z"
    },
    "papermill": {
     "duration": 0.026558,
     "end_time": "2023-04-26T16:27:16.847696",
     "exception": false,
     "start_time": "2023-04-26T16:27:16.821138",
     "status": "completed"
    },
    "tags": []
   },
   "outputs": [],
   "source": [
    "# Dropping rows using their index from the bool filter\n",
    "df = drop_columns(df, idx_to_drop=df[cond].index)"
   ]
  },
  {
   "cell_type": "code",
   "execution_count": 10,
   "id": "2aa09b47",
   "metadata": {
    "execution": {
     "iopub.execute_input": "2023-04-26T16:27:16.877812Z",
     "iopub.status.busy": "2023-04-26T16:27:16.876870Z",
     "iopub.status.idle": "2023-04-26T16:27:17.062322Z",
     "shell.execute_reply": "2023-04-26T16:27:17.061001Z"
    },
    "papermill": {
     "duration": 0.203837,
     "end_time": "2023-04-26T16:27:17.065152",
     "exception": false,
     "start_time": "2023-04-26T16:27:16.861315",
     "status": "completed"
    },
    "tags": []
   },
   "outputs": [
    {
     "data": {
      "text/plain": [
       "dtype('<M8[ns]')"
      ]
     },
     "execution_count": 10,
     "metadata": {},
     "output_type": "execute_result"
    }
   ],
   "source": [
    "# Changing the `Release Date` Column again after fixing the error\n",
    "df[\"Release Date\"] = pd.to_datetime(df[\"Release Date\"])\n",
    "\n",
    "# Checking\n",
    "df[\"Release Date\"].dtype"
   ]
  },
  {
   "cell_type": "markdown",
   "id": "aeade5a8",
   "metadata": {
    "papermill": {
     "duration": 0.013417,
     "end_time": "2023-04-26T16:27:17.092767",
     "exception": false,
     "start_time": "2023-04-26T16:27:17.079350",
     "status": "completed"
    },
    "tags": []
   },
   "source": [
    "### Changing the columns name to lower case and replacing spaces with '_' for consistency."
   ]
  },
  {
   "cell_type": "code",
   "execution_count": 11,
   "id": "203cf383",
   "metadata": {
    "execution": {
     "iopub.execute_input": "2023-04-26T16:27:17.122599Z",
     "iopub.status.busy": "2023-04-26T16:27:17.122030Z",
     "iopub.status.idle": "2023-04-26T16:27:17.140758Z",
     "shell.execute_reply": "2023-04-26T16:27:17.139388Z"
    },
    "id": "Wg-Vb-oJmuhw",
    "papermill": {
     "duration": 0.036808,
     "end_time": "2023-04-26T16:27:17.143231",
     "exception": false,
     "start_time": "2023-04-26T16:27:17.106423",
     "status": "completed"
    },
    "tags": []
   },
   "outputs": [
    {
     "data": {
      "text/html": [
       "<div>\n",
       "<style scoped>\n",
       "    .dataframe tbody tr th:only-of-type {\n",
       "        vertical-align: middle;\n",
       "    }\n",
       "\n",
       "    .dataframe tbody tr th {\n",
       "        vertical-align: top;\n",
       "    }\n",
       "\n",
       "    .dataframe thead th {\n",
       "        text-align: right;\n",
       "    }\n",
       "</style>\n",
       "<table border=\"1\" class=\"dataframe\">\n",
       "  <thead>\n",
       "    <tr style=\"text-align: right;\">\n",
       "      <th></th>\n",
       "      <th>title</th>\n",
       "      <th>release_date</th>\n",
       "      <th>rating</th>\n",
       "      <th>genres</th>\n",
       "      <th>plays</th>\n",
       "      <th>playing</th>\n",
       "      <th>backlogs</th>\n",
       "      <th>wishlist</th>\n",
       "    </tr>\n",
       "  </thead>\n",
       "  <tbody>\n",
       "    <tr>\n",
       "      <th>0</th>\n",
       "      <td>Elden Ring</td>\n",
       "      <td>2022-02-25</td>\n",
       "      <td>4</td>\n",
       "      <td>['Adventure', 'RPG']</td>\n",
       "      <td>17K</td>\n",
       "      <td>3.8K</td>\n",
       "      <td>4.6K</td>\n",
       "      <td>4.8K</td>\n",
       "    </tr>\n",
       "    <tr>\n",
       "      <th>1</th>\n",
       "      <td>Hades</td>\n",
       "      <td>2019-12-10</td>\n",
       "      <td>4</td>\n",
       "      <td>['Adventure', 'Brawler', 'Indie', 'RPG']</td>\n",
       "      <td>21K</td>\n",
       "      <td>3.2K</td>\n",
       "      <td>6.3K</td>\n",
       "      <td>3.6K</td>\n",
       "    </tr>\n",
       "    <tr>\n",
       "      <th>2</th>\n",
       "      <td>The Legend of Zelda: Breath of the Wild</td>\n",
       "      <td>2017-03-03</td>\n",
       "      <td>4</td>\n",
       "      <td>['Adventure', 'RPG']</td>\n",
       "      <td>30K</td>\n",
       "      <td>2.5K</td>\n",
       "      <td>5K</td>\n",
       "      <td>2.6K</td>\n",
       "    </tr>\n",
       "    <tr>\n",
       "      <th>3</th>\n",
       "      <td>Undertale</td>\n",
       "      <td>2015-09-15</td>\n",
       "      <td>4</td>\n",
       "      <td>['Adventure', 'Indie', 'RPG', 'Turn Based Stra...</td>\n",
       "      <td>28K</td>\n",
       "      <td>679</td>\n",
       "      <td>4.9K</td>\n",
       "      <td>1.8K</td>\n",
       "    </tr>\n",
       "    <tr>\n",
       "      <th>4</th>\n",
       "      <td>Hollow Knight</td>\n",
       "      <td>2017-02-24</td>\n",
       "      <td>4</td>\n",
       "      <td>['Adventure', 'Indie', 'Platform']</td>\n",
       "      <td>21K</td>\n",
       "      <td>2.4K</td>\n",
       "      <td>8.3K</td>\n",
       "      <td>2.3K</td>\n",
       "    </tr>\n",
       "  </tbody>\n",
       "</table>\n",
       "</div>"
      ],
      "text/plain": [
       "                                     title release_date  rating  \\\n",
       "0                               Elden Ring   2022-02-25       4   \n",
       "1                                    Hades   2019-12-10       4   \n",
       "2  The Legend of Zelda: Breath of the Wild   2017-03-03       4   \n",
       "3                                Undertale   2015-09-15       4   \n",
       "4                            Hollow Knight   2017-02-24       4   \n",
       "\n",
       "                                              genres plays playing backlogs  \\\n",
       "0                               ['Adventure', 'RPG']   17K    3.8K     4.6K   \n",
       "1           ['Adventure', 'Brawler', 'Indie', 'RPG']   21K    3.2K     6.3K   \n",
       "2                               ['Adventure', 'RPG']   30K    2.5K       5K   \n",
       "3  ['Adventure', 'Indie', 'RPG', 'Turn Based Stra...   28K     679     4.9K   \n",
       "4                 ['Adventure', 'Indie', 'Platform']   21K    2.4K     8.3K   \n",
       "\n",
       "  wishlist  \n",
       "0     4.8K  \n",
       "1     3.6K  \n",
       "2     2.6K  \n",
       "3     1.8K  \n",
       "4     2.3K  "
      ]
     },
     "execution_count": 11,
     "metadata": {},
     "output_type": "execute_result"
    }
   ],
   "source": [
    "# Using the `clean_column_names` utility function to rename the columns. \n",
    "df = clean_column_names(df)\n",
    "\n",
    "# Checking the results\n",
    "df.head()"
   ]
  },
  {
   "cell_type": "markdown",
   "id": "5349fc54",
   "metadata": {
    "papermill": {
     "duration": 0.013345,
     "end_time": "2023-04-26T16:27:17.170752",
     "exception": false,
     "start_time": "2023-04-26T16:27:17.157407",
     "status": "completed"
    },
    "tags": []
   },
   "source": [
    "### Changing the names of the `plays` and `playing` columns to more descriptive names"
   ]
  },
  {
   "cell_type": "code",
   "execution_count": 12,
   "id": "5fe997a1",
   "metadata": {
    "execution": {
     "iopub.execute_input": "2023-04-26T16:27:17.200280Z",
     "iopub.status.busy": "2023-04-26T16:27:17.199765Z",
     "iopub.status.idle": "2023-04-26T16:27:17.217535Z",
     "shell.execute_reply": "2023-04-26T16:27:17.216309Z"
    },
    "papermill": {
     "duration": 0.035347,
     "end_time": "2023-04-26T16:27:17.219816",
     "exception": false,
     "start_time": "2023-04-26T16:27:17.184469",
     "status": "completed"
    },
    "tags": []
   },
   "outputs": [
    {
     "data": {
      "text/html": [
       "<div>\n",
       "<style scoped>\n",
       "    .dataframe tbody tr th:only-of-type {\n",
       "        vertical-align: middle;\n",
       "    }\n",
       "\n",
       "    .dataframe tbody tr th {\n",
       "        vertical-align: top;\n",
       "    }\n",
       "\n",
       "    .dataframe thead th {\n",
       "        text-align: right;\n",
       "    }\n",
       "</style>\n",
       "<table border=\"1\" class=\"dataframe\">\n",
       "  <thead>\n",
       "    <tr style=\"text-align: right;\">\n",
       "      <th></th>\n",
       "      <th>title</th>\n",
       "      <th>release_date</th>\n",
       "      <th>rating</th>\n",
       "      <th>genres</th>\n",
       "      <th>no_of_plays</th>\n",
       "      <th>active_players</th>\n",
       "      <th>backlogs</th>\n",
       "      <th>wishlist</th>\n",
       "    </tr>\n",
       "  </thead>\n",
       "  <tbody>\n",
       "    <tr>\n",
       "      <th>0</th>\n",
       "      <td>Elden Ring</td>\n",
       "      <td>2022-02-25</td>\n",
       "      <td>4</td>\n",
       "      <td>['Adventure', 'RPG']</td>\n",
       "      <td>17K</td>\n",
       "      <td>3.8K</td>\n",
       "      <td>4.6K</td>\n",
       "      <td>4.8K</td>\n",
       "    </tr>\n",
       "    <tr>\n",
       "      <th>1</th>\n",
       "      <td>Hades</td>\n",
       "      <td>2019-12-10</td>\n",
       "      <td>4</td>\n",
       "      <td>['Adventure', 'Brawler', 'Indie', 'RPG']</td>\n",
       "      <td>21K</td>\n",
       "      <td>3.2K</td>\n",
       "      <td>6.3K</td>\n",
       "      <td>3.6K</td>\n",
       "    </tr>\n",
       "  </tbody>\n",
       "</table>\n",
       "</div>"
      ],
      "text/plain": [
       "        title release_date  rating                                    genres  \\\n",
       "0  Elden Ring   2022-02-25       4                      ['Adventure', 'RPG']   \n",
       "1       Hades   2019-12-10       4  ['Adventure', 'Brawler', 'Indie', 'RPG']   \n",
       "\n",
       "  no_of_plays active_players backlogs wishlist  \n",
       "0         17K           3.8K     4.6K     4.8K  \n",
       "1         21K           3.2K     6.3K     3.6K  "
      ]
     },
     "execution_count": 12,
     "metadata": {},
     "output_type": "execute_result"
    }
   ],
   "source": [
    "# Defining the rename mapper {old name: new name}\n",
    "rename_mapper = {\"plays\":\"no_of_plays\", \"playing\":\"active_players\"}\n",
    "\n",
    "# Renaming the columns\n",
    "df.rename(columns=rename_mapper, inplace=True)\n",
    "\n",
    "# Checking the results\n",
    "df.head(2)"
   ]
  },
  {
   "cell_type": "markdown",
   "id": "868b3734",
   "metadata": {
    "id": "smiEOy_6musy",
    "papermill": {
     "duration": 0.013412,
     "end_time": "2023-04-26T16:27:17.247569",
     "exception": false,
     "start_time": "2023-04-26T16:27:17.234157",
     "status": "completed"
    },
    "tags": []
   },
   "source": [
    "### Handling Numerical Columns\n",
    "\n",
    "Columns that contain numerical values in the dataset are in string data type (Object) and are formated in thousands using the 'K' symbol, to handle this we will use the `convert_str_num_to_int` utility function to replace the 'K' symbol with '000' and remove any dot '.' then changing the type from (object) to int."
   ]
  },
  {
   "cell_type": "code",
   "execution_count": 13,
   "id": "ed8d1484",
   "metadata": {
    "execution": {
     "iopub.execute_input": "2023-04-26T16:27:17.278093Z",
     "iopub.status.busy": "2023-04-26T16:27:17.277560Z",
     "iopub.status.idle": "2023-04-26T16:27:17.306373Z",
     "shell.execute_reply": "2023-04-26T16:27:17.305005Z"
    },
    "papermill": {
     "duration": 0.047595,
     "end_time": "2023-04-26T16:27:17.309126",
     "exception": false,
     "start_time": "2023-04-26T16:27:17.261531",
     "status": "completed"
    },
    "tags": []
   },
   "outputs": [
    {
     "data": {
      "text/html": [
       "<div>\n",
       "<style scoped>\n",
       "    .dataframe tbody tr th:only-of-type {\n",
       "        vertical-align: middle;\n",
       "    }\n",
       "\n",
       "    .dataframe tbody tr th {\n",
       "        vertical-align: top;\n",
       "    }\n",
       "\n",
       "    .dataframe thead th {\n",
       "        text-align: right;\n",
       "    }\n",
       "</style>\n",
       "<table border=\"1\" class=\"dataframe\">\n",
       "  <thead>\n",
       "    <tr style=\"text-align: right;\">\n",
       "      <th></th>\n",
       "      <th>title</th>\n",
       "      <th>release_date</th>\n",
       "      <th>rating</th>\n",
       "      <th>genres</th>\n",
       "      <th>no_of_plays</th>\n",
       "      <th>active_players</th>\n",
       "      <th>backlogs</th>\n",
       "      <th>wishlist</th>\n",
       "    </tr>\n",
       "  </thead>\n",
       "  <tbody>\n",
       "    <tr>\n",
       "      <th>0</th>\n",
       "      <td>Elden Ring</td>\n",
       "      <td>2022-02-25</td>\n",
       "      <td>4</td>\n",
       "      <td>['Adventure', 'RPG']</td>\n",
       "      <td>17000</td>\n",
       "      <td>38000</td>\n",
       "      <td>46000</td>\n",
       "      <td>48000</td>\n",
       "    </tr>\n",
       "    <tr>\n",
       "      <th>1</th>\n",
       "      <td>Hades</td>\n",
       "      <td>2019-12-10</td>\n",
       "      <td>4</td>\n",
       "      <td>['Adventure', 'Brawler', 'Indie', 'RPG']</td>\n",
       "      <td>21000</td>\n",
       "      <td>32000</td>\n",
       "      <td>63000</td>\n",
       "      <td>36000</td>\n",
       "    </tr>\n",
       "    <tr>\n",
       "      <th>2</th>\n",
       "      <td>The Legend of Zelda: Breath of the Wild</td>\n",
       "      <td>2017-03-03</td>\n",
       "      <td>4</td>\n",
       "      <td>['Adventure', 'RPG']</td>\n",
       "      <td>30000</td>\n",
       "      <td>25000</td>\n",
       "      <td>5000</td>\n",
       "      <td>26000</td>\n",
       "    </tr>\n",
       "    <tr>\n",
       "      <th>3</th>\n",
       "      <td>Undertale</td>\n",
       "      <td>2015-09-15</td>\n",
       "      <td>4</td>\n",
       "      <td>['Adventure', 'Indie', 'RPG', 'Turn Based Stra...</td>\n",
       "      <td>28000</td>\n",
       "      <td>679</td>\n",
       "      <td>49000</td>\n",
       "      <td>18000</td>\n",
       "    </tr>\n",
       "    <tr>\n",
       "      <th>4</th>\n",
       "      <td>Hollow Knight</td>\n",
       "      <td>2017-02-24</td>\n",
       "      <td>4</td>\n",
       "      <td>['Adventure', 'Indie', 'Platform']</td>\n",
       "      <td>21000</td>\n",
       "      <td>24000</td>\n",
       "      <td>83000</td>\n",
       "      <td>23000</td>\n",
       "    </tr>\n",
       "  </tbody>\n",
       "</table>\n",
       "</div>"
      ],
      "text/plain": [
       "                                     title release_date  rating  \\\n",
       "0                               Elden Ring   2022-02-25       4   \n",
       "1                                    Hades   2019-12-10       4   \n",
       "2  The Legend of Zelda: Breath of the Wild   2017-03-03       4   \n",
       "3                                Undertale   2015-09-15       4   \n",
       "4                            Hollow Knight   2017-02-24       4   \n",
       "\n",
       "                                              genres  no_of_plays  \\\n",
       "0                               ['Adventure', 'RPG']        17000   \n",
       "1           ['Adventure', 'Brawler', 'Indie', 'RPG']        21000   \n",
       "2                               ['Adventure', 'RPG']        30000   \n",
       "3  ['Adventure', 'Indie', 'RPG', 'Turn Based Stra...        28000   \n",
       "4                 ['Adventure', 'Indie', 'Platform']        21000   \n",
       "\n",
       "   active_players  backlogs  wishlist  \n",
       "0           38000     46000     48000  \n",
       "1           32000     63000     36000  \n",
       "2           25000      5000     26000  \n",
       "3             679     49000     18000  \n",
       "4           24000     83000     23000  "
      ]
     },
     "execution_count": 13,
     "metadata": {},
     "output_type": "execute_result"
    }
   ],
   "source": [
    "# Defining the list of columns to unpack the numbers and convert them into int data type.\n",
    "numerical_cols = [\"no_of_plays\", \"active_players\", \"backlogs\", \"wishlist\"]\n",
    "\n",
    "# Using the utility function to handle the string (object) numerical values and unpack the 'K'  symbol to thousands\n",
    "df = convert_str_num_to_int(df, numerical_cols)\n",
    "\n",
    "# Checking the results\n",
    "df.head()"
   ]
  },
  {
   "cell_type": "code",
   "execution_count": 14,
   "id": "95f153e9",
   "metadata": {
    "execution": {
     "iopub.execute_input": "2023-04-26T16:27:17.339844Z",
     "iopub.status.busy": "2023-04-26T16:27:17.339125Z",
     "iopub.status.idle": "2023-04-26T16:27:17.347626Z",
     "shell.execute_reply": "2023-04-26T16:27:17.346714Z"
    },
    "papermill": {
     "duration": 0.026435,
     "end_time": "2023-04-26T16:27:17.349775",
     "exception": false,
     "start_time": "2023-04-26T16:27:17.323340",
     "status": "completed"
    },
    "tags": []
   },
   "outputs": [
    {
     "data": {
      "text/plain": [
       "title                     object\n",
       "release_date      datetime64[ns]\n",
       "rating                   float64\n",
       "genres                    object\n",
       "no_of_plays                int64\n",
       "active_players             int64\n",
       "backlogs                   int64\n",
       "wishlist                   int64\n",
       "dtype: object"
      ]
     },
     "execution_count": 14,
     "metadata": {},
     "output_type": "execute_result"
    }
   ],
   "source": [
    "# Checking the data types of the numerical columns\n",
    "df.dtypes"
   ]
  },
  {
   "cell_type": "markdown",
   "id": "2a798e97",
   "metadata": {
    "papermill": {
     "duration": 0.014083,
     "end_time": "2023-04-26T16:27:17.378001",
     "exception": false,
     "start_time": "2023-04-26T16:27:17.363918",
     "status": "completed"
    },
    "tags": []
   },
   "source": [
    "### Dropping `Null` values "
   ]
  },
  {
   "cell_type": "code",
   "execution_count": 15,
   "id": "f3482d37",
   "metadata": {
    "execution": {
     "iopub.execute_input": "2023-04-26T16:27:17.410202Z",
     "iopub.status.busy": "2023-04-26T16:27:17.409250Z",
     "iopub.status.idle": "2023-04-26T16:27:17.418825Z",
     "shell.execute_reply": "2023-04-26T16:27:17.417596Z"
    },
    "papermill": {
     "duration": 0.028511,
     "end_time": "2023-04-26T16:27:17.421550",
     "exception": false,
     "start_time": "2023-04-26T16:27:17.393039",
     "status": "completed"
    },
    "tags": []
   },
   "outputs": [],
   "source": [
    "# Dropping null values from the dataframe\n",
    "df.dropna(inplace=True)"
   ]
  },
  {
   "cell_type": "markdown",
   "id": "647832f1",
   "metadata": {
    "id": "F4DLc9c7mvR9",
    "papermill": {
     "duration": 0.013691,
     "end_time": "2023-04-26T16:27:17.449658",
     "exception": false,
     "start_time": "2023-04-26T16:27:17.435967",
     "status": "completed"
    },
    "tags": []
   },
   "source": [
    "# Exploratory Data Analysis (EDA)\n",
    "\n",
    "In this section we will be analyzing this dataset to gain insights into various aspects of the video game industry, including : \n",
    "\n",
    "1. The popularity of different genres. \n",
    "\n",
    "    1.1. What is the most popular game in each genre. \n",
    "    \n",
    "2. The trend of games rating over time (release date). \n",
    "\n",
    "3. The level of engagement of players with popular games. \n",
    "\n",
    "4. Correlation between backlogging, rating and wishlist variables."
   ]
  },
  {
   "cell_type": "markdown",
   "id": "9d0426af",
   "metadata": {
    "papermill": {
     "duration": 0.013702,
     "end_time": "2023-04-26T16:27:17.477294",
     "exception": false,
     "start_time": "2023-04-26T16:27:17.463592",
     "status": "completed"
    },
    "tags": []
   },
   "source": [
    "## 1. The popularity of different genres. \n",
    "\n",
    "To calculate the popularity of different genres, we are going to follow these steps :\n",
    "\n",
    "1. Split the `genres` column values on the ',' and create dummy variables representing each genre using pandas `get_dummies()` method\n",
    "\n",
    "2. Sum the occurrences of each genre and sort the values by descending order to get the most popular first.\n",
    "\n",
    "3. Plot the top 10 most popular video games genre."
   ]
  },
  {
   "cell_type": "code",
   "execution_count": 16,
   "id": "1a601e40",
   "metadata": {
    "execution": {
     "iopub.execute_input": "2023-04-26T16:27:17.507137Z",
     "iopub.status.busy": "2023-04-26T16:27:17.506615Z",
     "iopub.status.idle": "2023-04-26T16:27:17.543658Z",
     "shell.execute_reply": "2023-04-26T16:27:17.542165Z"
    },
    "papermill": {
     "duration": 0.055564,
     "end_time": "2023-04-26T16:27:17.546843",
     "exception": false,
     "start_time": "2023-04-26T16:27:17.491279",
     "status": "completed"
    },
    "tags": []
   },
   "outputs": [
    {
     "data": {
      "text/plain": [
       "Adventure    1005\n",
       " RPG          422\n",
       " Platform     282\n",
       " Shooter      270\n",
       " Indie        229\n",
       "dtype: int64"
      ]
     },
     "execution_count": 16,
     "metadata": {},
     "output_type": "execute_result"
    }
   ],
   "source": [
    "# Replace '[', ']', and \"'\" characters in the genres column with nothing\n",
    "df[\"genres\"] = df[\"genres\"].str.replace('[\\[\\]\\'\\\"]', \"\")\n",
    "\n",
    "# Create a binary matrix of genre values for each game\n",
    "genres = df[\"genres\"].str.get_dummies(\",\")\n",
    "\n",
    "# Sum the occurrences of each genre across all games\n",
    "popularity = genres.sum().sort_values(ascending=False)\n",
    "\n",
    "# Print the popularity of each genre\n",
    "popularity.head()"
   ]
  },
  {
   "cell_type": "markdown",
   "id": "6b486f33",
   "metadata": {
    "papermill": {
     "duration": 0.014143,
     "end_time": "2023-04-26T16:27:17.575926",
     "exception": false,
     "start_time": "2023-04-26T16:27:17.561783",
     "status": "completed"
    },
    "tags": []
   },
   "source": [
    "### Plotting the Top 10 Most Popular Video Games Genres "
   ]
  },
  {
   "cell_type": "code",
   "execution_count": 17,
   "id": "f2cc0575",
   "metadata": {
    "_kg_hide-input": true,
    "execution": {
     "iopub.execute_input": "2023-04-26T16:27:17.607737Z",
     "iopub.status.busy": "2023-04-26T16:27:17.606334Z",
     "iopub.status.idle": "2023-04-26T16:27:17.918953Z",
     "shell.execute_reply": "2023-04-26T16:27:17.917572Z"
    },
    "papermill": {
     "duration": 0.331502,
     "end_time": "2023-04-26T16:27:17.921704",
     "exception": false,
     "start_time": "2023-04-26T16:27:17.590202",
     "status": "completed"
    },
    "tags": []
   },
   "outputs": [
    {
     "data": {
      "image/png": "[encoded data removed]",
      "text/plain": [
       "<Figure size 1000x500 with 1 Axes>"
      ]
     },
     "metadata": {},
     "output_type": "display_data"
    }
   ],
   "source": [
    "# Setting the plot's figure size\n",
    "fig, ax = plt.subplots(figsize=(10, 5))\n",
    "\n",
    "# Plot the horizontal bar chart\n",
    "sns.barplot(x=popularity[:10].values, y=popularity[:10].index, palette=\"Blues_r\", ax=ax)\n",
    "\n",
    "# Add labels showing the popularity of each genre\n",
    "for i, v in enumerate(popularity[:10].values):\n",
    "    ax.text(v + 130 / 2, i, str(f\"{v} Games\"), color=\"black\", ha=\"center\", va=\"center\")\n",
    "\n",
    "# Set the title and axis labels\n",
    "ax.set_title(\"Top 10 Popular Video Game Genres\", fontsize=15, pad=15)\n",
    "ax.set_xlabel(\"\")\n",
    "ax.set_ylabel(\"\")\n",
    "\n",
    "# Remove the x-axis tick labels\n",
    "ax.set_xticklabels([])\n",
    "\n",
    "# Increase the fontsize of the y-axis tick labels\n",
    "ax.tick_params(axis=\"y\", labelsize=11)\n",
    "\n",
    "# Remove spines from the right and top sides of the plot\n",
    "sns.despine(right=True, top=True, bottom=True)\n",
    "\n",
    "# Show the plot\n",
    "plt.show()"
   ]
  },
  {
   "cell_type": "markdown",
   "id": "4e6de255",
   "metadata": {
    "papermill": {
     "duration": 0.014982,
     "end_time": "2023-04-26T16:27:17.952027",
     "exception": false,
     "start_time": "2023-04-26T16:27:17.937045",
     "status": "completed"
    },
    "tags": []
   },
   "source": [
    "### 1.1. What is the most popular game in each genre. \n",
    "---\n",
    "\n",
    "#### To Calculate the most popular game in each video game we are going to ues the following approach :\n",
    "\n",
    "1. First, we will convert the `popularity` `Series` to a `DataFrame` with a single column named `'popularity'` containing the popularity values.\n",
    "\n",
    "2. Next, we will merges this `DataFrame` with the game data `DataFrame` (`df`) on the `'genres'` column. This adds a new `'popularity'` column to the game data containing the popularity values for each game.\n",
    "\n",
    "3. Then, we group the merged data by the `'genres'` column using the `groupby` method. This creates a `GroupBy` object with one group for each unique value in the `'genres'` column.\n",
    "\n",
    "4. After that, we define a function named `get_most_pop_game` that takes a `DataFrame` containing data for a group of games as input and returns the title of the most popular game in that group. The function does this by getting the row with the highest value in the `'popularity'` column and returning the value in its `'title'` column.\n",
    "\n",
    "5. Finally, we apply this function to each group in the `GroupBy` object using the `apply` method. This returns a new `Series` object containing the title of the most popular game in each genre.\n",
    "\n",
    "---\n",
    "\n",
    "#### Resources :\n",
    "- [Find the max value of a column and return the corresponding row values - Stackoverflow.](https://stackoverflow.com/questions/15741759/find-maximum-value-of-a-column-and-return-the-corresponding-row-values-using-pan#:~:text=Assuming%20df%20has%20a%20unique%20index%2C%20this%20gives,so%20df.loc%20may%20return%20more%20than%20one%20row.)\n",
    "- [pandas.DataFrame.idxmax - Pandas Documentation.](https://pandas.pydata.org/pandas-docs/stable/reference/api/pandas.DataFrame.idxmax.html)"
   ]
  },
  {
   "cell_type": "code",
   "execution_count": 18,
   "id": "26d902b9",
   "metadata": {
    "execution": {
     "iopub.execute_input": "2023-04-26T16:27:17.985309Z",
     "iopub.status.busy": "2023-04-26T16:27:17.984769Z",
     "iopub.status.idle": "2023-04-26T16:27:18.012487Z",
     "shell.execute_reply": "2023-04-26T16:27:18.011313Z"
    },
    "papermill": {
     "duration": 0.048315,
     "end_time": "2023-04-26T16:27:18.015644",
     "exception": false,
     "start_time": "2023-04-26T16:27:17.967329",
     "status": "completed"
    },
    "tags": []
   },
   "outputs": [],
   "source": [
    "# Convert the popularity to a dataframe\n",
    "popularity_df = popularity.to_frame(name=\"popularity\")\n",
    "\n",
    "# Merge the popularity data with the game data\n",
    "df_pop = df.merge(popularity_df, left_on=\"genres\", right_index=True)\n",
    "\n",
    "# Group the data by genre\n",
    "grouped = df_pop.groupby(\"genres\")\n",
    "\n",
    "# Define a function to get the most popular game in each group\n",
    "def get_most_pop_game(group: pd.DataFrame) -> pd.Series:\n",
    "    \"\"\"\n",
    "    Get the most popular game in a group of games.\n",
    "\n",
    "    This function takes a DataFrame containing data for a group of games and returns a Series containing the \n",
    "    data for the most popular game in that group.\n",
    "\n",
    "    Parameters\n",
    "    ----------\n",
    "    group : pd.DataFrame\n",
    "        A DataFrame containing data for a group of games. \n",
    "        Must have a column named 'popularity' containing the popularity values for each game.\n",
    "\n",
    "    Returns\n",
    "    -------\n",
    "    pd.Series\n",
    "        A Series containing the data for the most popular game in the input group.\n",
    "    \"\"\"\n",
    "\n",
    "    # Get the row with the highest popularity value\n",
    "    most_popular_game = group.loc[group[\"popularity\"].idxmax()]\n",
    "    \n",
    "    # Return the title of the most popular game\n",
    "    return most_popular_game[\"title\"]\n",
    "\n",
    "# Applying the function to the grouped dataframe and saving the result (series) into a variable\n",
    "most_popular_game = grouped.apply(get_most_pop_game)"
   ]
  },
  {
   "cell_type": "code",
   "execution_count": 19,
   "id": "90d7dbfa",
   "metadata": {
    "execution": {
     "iopub.execute_input": "2023-04-26T16:27:18.049297Z",
     "iopub.status.busy": "2023-04-26T16:27:18.048067Z",
     "iopub.status.idle": "2023-04-26T16:27:18.064439Z",
     "shell.execute_reply": "2023-04-26T16:27:18.063096Z"
    },
    "papermill": {
     "duration": 0.035884,
     "end_time": "2023-04-26T16:27:18.067052",
     "exception": false,
     "start_time": "2023-04-26T16:27:18.031168",
     "status": "completed"
    },
    "tags": []
   },
   "outputs": [
    {
     "data": {
      "text/html": [
       "<div>\n",
       "<style scoped>\n",
       "    .dataframe tbody tr th:only-of-type {\n",
       "        vertical-align: middle;\n",
       "    }\n",
       "\n",
       "    .dataframe tbody tr th {\n",
       "        vertical-align: top;\n",
       "    }\n",
       "\n",
       "    .dataframe thead th {\n",
       "        text-align: right;\n",
       "    }\n",
       "</style>\n",
       "<table border=\"1\" class=\"dataframe\">\n",
       "  <thead>\n",
       "    <tr style=\"text-align: right;\">\n",
       "      <th></th>\n",
       "      <th>Game Genre</th>\n",
       "      <th>Most Popular Game</th>\n",
       "    </tr>\n",
       "  </thead>\n",
       "  <tbody>\n",
       "    <tr>\n",
       "      <th>0</th>\n",
       "      <td>Adventure</td>\n",
       "      <td>Metal Gear Solid 2: Sons of Liberty</td>\n",
       "    </tr>\n",
       "    <tr>\n",
       "      <th>1</th>\n",
       "      <td>Arcade</td>\n",
       "      <td>Chrome Dino</td>\n",
       "    </tr>\n",
       "    <tr>\n",
       "      <th>2</th>\n",
       "      <td>Brawler</td>\n",
       "      <td>Devil May Cry</td>\n",
       "    </tr>\n",
       "    <tr>\n",
       "      <th>3</th>\n",
       "      <td>Card &amp; Board Game</td>\n",
       "      <td>Mario Party Superstars</td>\n",
       "    </tr>\n",
       "    <tr>\n",
       "      <th>4</th>\n",
       "      <td>Fighting</td>\n",
       "      <td>MultiVersus</td>\n",
       "    </tr>\n",
       "    <tr>\n",
       "      <th>5</th>\n",
       "      <td>Indie</td>\n",
       "      <td>Friday the 13th: The Game</td>\n",
       "    </tr>\n",
       "    <tr>\n",
       "      <th>6</th>\n",
       "      <td>MOBA</td>\n",
       "      <td>Pokémon Unite</td>\n",
       "    </tr>\n",
       "    <tr>\n",
       "      <th>7</th>\n",
       "      <td>Music</td>\n",
       "      <td>Friday Night Funkin'</td>\n",
       "    </tr>\n",
       "    <tr>\n",
       "      <th>8</th>\n",
       "      <td>Platform</td>\n",
       "      <td>Super Mario Bros. 3</td>\n",
       "    </tr>\n",
       "    <tr>\n",
       "      <th>9</th>\n",
       "      <td>Puzzle</td>\n",
       "      <td>Tetris</td>\n",
       "    </tr>\n",
       "    <tr>\n",
       "      <th>10</th>\n",
       "      <td>RPG</td>\n",
       "      <td>Xenoblade Chronicles: Definitive Edition</td>\n",
       "    </tr>\n",
       "    <tr>\n",
       "      <th>11</th>\n",
       "      <td>Racing</td>\n",
       "      <td>Mario Kart Wii</td>\n",
       "    </tr>\n",
       "    <tr>\n",
       "      <th>12</th>\n",
       "      <td>Shooter</td>\n",
       "      <td>Doom</td>\n",
       "    </tr>\n",
       "    <tr>\n",
       "      <th>13</th>\n",
       "      <td>Simulator</td>\n",
       "      <td>Animal Crossing</td>\n",
       "    </tr>\n",
       "    <tr>\n",
       "      <th>14</th>\n",
       "      <td>Sport</td>\n",
       "      <td>Mario Strikers: Battle League</td>\n",
       "    </tr>\n",
       "    <tr>\n",
       "      <th>15</th>\n",
       "      <td>Visual Novel</td>\n",
       "      <td>Saya no Uta</td>\n",
       "    </tr>\n",
       "  </tbody>\n",
       "</table>\n",
       "</div>"
      ],
      "text/plain": [
       "           Game Genre                         Most Popular Game\n",
       "0           Adventure       Metal Gear Solid 2: Sons of Liberty\n",
       "1              Arcade                               Chrome Dino\n",
       "2             Brawler                             Devil May Cry\n",
       "3   Card & Board Game                    Mario Party Superstars\n",
       "4            Fighting                               MultiVersus\n",
       "5               Indie                 Friday the 13th: The Game\n",
       "6                MOBA                             Pokémon Unite\n",
       "7               Music                      Friday Night Funkin'\n",
       "8            Platform                       Super Mario Bros. 3\n",
       "9              Puzzle                                    Tetris\n",
       "10                RPG  Xenoblade Chronicles: Definitive Edition\n",
       "11             Racing                            Mario Kart Wii\n",
       "12            Shooter                                      Doom\n",
       "13          Simulator                           Animal Crossing\n",
       "14              Sport             Mario Strikers: Battle League\n",
       "15       Visual Novel                               Saya no Uta"
      ]
     },
     "execution_count": 19,
     "metadata": {},
     "output_type": "execute_result"
    }
   ],
   "source": [
    "# Converting the series into a dataframe, reseting the index and rename the columns \n",
    "## to present the most popular game in each video game genre.\n",
    "most_popular_game.to_frame().reset_index() \\\n",
    "                 .rename({\"genres\":\"Game Genre\", 0:\"Most Popular Game\"}, axis=1)"
   ]
  },
  {
   "cell_type": "markdown",
   "id": "f027912c",
   "metadata": {
    "papermill": {
     "duration": 0.015614,
     "end_time": "2023-04-26T16:27:18.098811",
     "exception": false,
     "start_time": "2023-04-26T16:27:18.083197",
     "status": "completed"
    },
    "tags": []
   },
   "source": [
    "## 2. The trend of games rating over time (release date).\n",
    "---\n",
    "\n",
    "#### To analyis the change in the trend of games rating over time (release date), we are going to use the `rating` and the `release_year` columns.\n",
    "\n",
    "- The `rating` column is going to be our indicator of how successfully a game is, represented on the x-axis. \n",
    "\n",
    "- The `release_year` is going to be our time-line (trend) to see the changes of video games ratings over time, represented on the y-axis."
   ]
  },
  {
   "cell_type": "code",
   "execution_count": 20,
   "id": "50b4b1e5",
   "metadata": {
    "_kg_hide-input": true,
    "execution": {
     "iopub.execute_input": "2023-04-26T16:27:18.134760Z",
     "iopub.status.busy": "2023-04-26T16:27:18.133325Z",
     "iopub.status.idle": "2023-04-26T16:27:18.459453Z",
     "shell.execute_reply": "2023-04-26T16:27:18.458281Z"
    },
    "papermill": {
     "duration": 0.346978,
     "end_time": "2023-04-26T16:27:18.462448",
     "exception": false,
     "start_time": "2023-04-26T16:27:18.115470",
     "status": "completed"
    },
    "tags": []
   },
   "outputs": [
    {
     "data": {
      "image/png": "[encoded data removed]",
      "text/plain": [
       "<Figure size 1500x500 with 1 Axes>"
      ]
     },
     "metadata": {},
     "output_type": "display_data"
    }
   ],
   "source": [
    "# Extract the release year from the release_date column\n",
    "df[\"release_year\"] = df[\"release_date\"].dt.year\n",
    "\n",
    "# Group the data by release year and calculate the average rating for each year\n",
    "yearly_avg_rating = df.groupby(\"release_year\")[\"rating\"].mean().reset_index()\n",
    "\n",
    "# Set the plot size\n",
    "plt.figure(figsize=(15, 5))\n",
    "\n",
    "# Plot the average rating by release year using Seaborn\n",
    "sns.lineplot(data=yearly_avg_rating, x=\"release_year\", y=\"rating\")\n",
    "\n",
    "# Despine the plot from the top and left\n",
    "sns.despine(top=True, right=True)\n",
    "\n",
    "# Add a descriptive title to the plot\n",
    "plt.title(\"Average Game Rating by Release Year\", fontsize=16, pad=15)\n",
    "\n",
    "# Increase the padding space between the title, x-label and y-label and the plot\n",
    "plt.xlabel(\"\")\n",
    "plt.ylabel(\"Average Rating\", labelpad=15, fontsize=15)\n",
    "\n",
    "# Increase the font-size of the x-axis and y-axis ticks\n",
    "plt.xticks(fontsize=12)\n",
    "plt.yticks(fontsize=12)\n",
    "\n",
    "# Add horizontal lines to indicate the maximum and minimum values on the y-axis\n",
    "plt.axhline(y=yearly_avg_rating[\"rating\"].max(), color=\"green\", linestyle=\"--\")\n",
    "plt.axhline(y=yearly_avg_rating[\"rating\"].min(), color=\"red\", linestyle=\"--\")\n",
    "# Show the plot\n",
    "plt.show()"
   ]
  },
  {
   "cell_type": "markdown",
   "id": "7fda5013",
   "metadata": {
    "papermill": {
     "duration": 0.015924,
     "end_time": "2023-04-26T16:27:18.495141",
     "exception": false,
     "start_time": "2023-04-26T16:27:18.479217",
     "status": "completed"
    },
    "tags": []
   },
   "source": [
    ">From 1980 through the 1990s, the average rating of video games experienced significant fluctuations, with a notable decline in the late 1980s. However, starting in the 2000s, the average rating has become more stable and consistent. \n",
    "\n",
    "This change over time could be due to advancements in technology and game design, evolving consumer preferences, and increased competition. These factors have led to an overall increase in the quality of games and their average ratings."
   ]
  },
  {
   "cell_type": "markdown",
   "id": "d8fa282d",
   "metadata": {
    "papermill": {
     "duration": 0.015813,
     "end_time": "2023-04-26T16:27:18.527046",
     "exception": false,
     "start_time": "2023-04-26T16:27:18.511233",
     "status": "completed"
    },
    "tags": []
   },
   "source": [
    "## 3. The level of engagement of players with games. \n",
    "---\n",
    "\n",
    "#### To calculate the level of engagement of players with game we are going to thake the following approach :\n",
    "\n",
    "1. First, we will remove the rows from the DataFrame that have a value of 0 in the `active_players` column. This is done to avoid division by zero when calculating the average number of plays per active player.\n",
    "\n",
    "2. Next, we will calculates the average number of plays per active player for each game by dividing the `no_of_plays` column by the `active_players` column. The result is rounded to the nearest integer and stored in a new column named `avg_plays_per_player`.\n",
    "\n",
    "3. Then we sort the data by the `avg_plays_per_player` column in descending order to show the games with the highest average number of plays per active player at the top.\n",
    "\n",
    "4. Finally, we display the top 5 games with the highest average number of plays per active player.\n"
   ]
  },
  {
   "cell_type": "code",
   "execution_count": 21,
   "id": "141678db",
   "metadata": {
    "execution": {
     "iopub.execute_input": "2023-04-26T16:27:18.562311Z",
     "iopub.status.busy": "2023-04-26T16:27:18.561398Z",
     "iopub.status.idle": "2023-04-26T16:27:18.584239Z",
     "shell.execute_reply": "2023-04-26T16:27:18.582745Z"
    },
    "papermill": {
     "duration": 0.044373,
     "end_time": "2023-04-26T16:27:18.587539",
     "exception": false,
     "start_time": "2023-04-26T16:27:18.543166",
     "status": "completed"
    },
    "tags": []
   },
   "outputs": [
    {
     "data": {
      "text/html": [
       "<div>\n",
       "<style scoped>\n",
       "    .dataframe tbody tr th:only-of-type {\n",
       "        vertical-align: middle;\n",
       "    }\n",
       "\n",
       "    .dataframe tbody tr th {\n",
       "        vertical-align: top;\n",
       "    }\n",
       "\n",
       "    .dataframe thead th {\n",
       "        text-align: right;\n",
       "    }\n",
       "</style>\n",
       "<table border=\"1\" class=\"dataframe\">\n",
       "  <thead>\n",
       "    <tr style=\"text-align: right;\">\n",
       "      <th></th>\n",
       "      <th>title</th>\n",
       "      <th>release_date</th>\n",
       "      <th>rating</th>\n",
       "      <th>genres</th>\n",
       "      <th>no_of_plays</th>\n",
       "      <th>active_players</th>\n",
       "      <th>backlogs</th>\n",
       "      <th>wishlist</th>\n",
       "      <th>release_year</th>\n",
       "      <th>avg_plays_per_player</th>\n",
       "    </tr>\n",
       "  </thead>\n",
       "  <tbody>\n",
       "    <tr>\n",
       "      <th>1331</th>\n",
       "      <td>Fruit Ninja Classic</td>\n",
       "      <td>2010-04-20</td>\n",
       "      <td>3</td>\n",
       "      <td>Arcade</td>\n",
       "      <td>38000</td>\n",
       "      <td>1</td>\n",
       "      <td>32</td>\n",
       "      <td>10</td>\n",
       "      <td>2010</td>\n",
       "      <td>38000</td>\n",
       "    </tr>\n",
       "    <tr>\n",
       "      <th>1476</th>\n",
       "      <td>Slither.io</td>\n",
       "      <td>2016-03-25</td>\n",
       "      <td>2</td>\n",
       "      <td>Arcade, Simulator</td>\n",
       "      <td>21000</td>\n",
       "      <td>1</td>\n",
       "      <td>21</td>\n",
       "      <td>4</td>\n",
       "      <td>2016</td>\n",
       "      <td>21000</td>\n",
       "    </tr>\n",
       "    <tr>\n",
       "      <th>1189</th>\n",
       "      <td>Happy Wheels</td>\n",
       "      <td>2010-06-04</td>\n",
       "      <td>3</td>\n",
       "      <td>Adventure, Platform, Racing</td>\n",
       "      <td>51000</td>\n",
       "      <td>3</td>\n",
       "      <td>61</td>\n",
       "      <td>21</td>\n",
       "      <td>2010</td>\n",
       "      <td>17000</td>\n",
       "    </tr>\n",
       "    <tr>\n",
       "      <th>1454</th>\n",
       "      <td>Ms. Pac-Man</td>\n",
       "      <td>1982-02-03</td>\n",
       "      <td>4</td>\n",
       "      <td>Arcade</td>\n",
       "      <td>16000</td>\n",
       "      <td>1</td>\n",
       "      <td>45</td>\n",
       "      <td>38</td>\n",
       "      <td>1982</td>\n",
       "      <td>16000</td>\n",
       "    </tr>\n",
       "    <tr>\n",
       "      <th>1499</th>\n",
       "      <td>WWE SmackDown vs. Raw 2008</td>\n",
       "      <td>2007-11-09</td>\n",
       "      <td>3</td>\n",
       "      <td>Fighting, Sport</td>\n",
       "      <td>14000</td>\n",
       "      <td>1</td>\n",
       "      <td>34</td>\n",
       "      <td>16</td>\n",
       "      <td>2007</td>\n",
       "      <td>14000</td>\n",
       "    </tr>\n",
       "  </tbody>\n",
       "</table>\n",
       "</div>"
      ],
      "text/plain": [
       "                           title release_date  rating  \\\n",
       "1331         Fruit Ninja Classic   2010-04-20       3   \n",
       "1476                  Slither.io   2016-03-25       2   \n",
       "1189                Happy Wheels   2010-06-04       3   \n",
       "1454                 Ms. Pac-Man   1982-02-03       4   \n",
       "1499  WWE SmackDown vs. Raw 2008   2007-11-09       3   \n",
       "\n",
       "                           genres  no_of_plays  active_players  backlogs  \\\n",
       "1331                       Arcade        38000               1        32   \n",
       "1476            Arcade, Simulator        21000               1        21   \n",
       "1189  Adventure, Platform, Racing        51000               3        61   \n",
       "1454                       Arcade        16000               1        45   \n",
       "1499              Fighting, Sport        14000               1        34   \n",
       "\n",
       "      wishlist  release_year  avg_plays_per_player  \n",
       "1331        10          2010                 38000  \n",
       "1476         4          2016                 21000  \n",
       "1189        21          2010                 17000  \n",
       "1454        38          1982                 16000  \n",
       "1499        16          2007                 14000  "
      ]
     },
     "execution_count": 21,
     "metadata": {},
     "output_type": "execute_result"
    }
   ],
   "source": [
    "# Remove rows with a value of 0 in the active_players column\n",
    "df_engagement = df[df[\"active_players\"] != 0]\n",
    "\n",
    "# Calculate the average number of plays per active player for each game\n",
    "df_engagement[\"avg_plays_per_player\"] = round(df_engagement[\"no_of_plays\"] / df_engagement[\"active_players\"])\n",
    "\n",
    "# Sort the data by average number of plays per active player in descending order\n",
    "df_engagement = df_engagement.sort_values(by=\"avg_plays_per_player\", ascending=False)\n",
    "\n",
    "# Display the top 5 games with the highest average number of plays per active player\n",
    "df_engagement.head()"
   ]
  },
  {
   "cell_type": "code",
   "execution_count": 22,
   "id": "55bc68dd",
   "metadata": {
    "_kg_hide-input": true,
    "execution": {
     "iopub.execute_input": "2023-04-26T16:27:18.624561Z",
     "iopub.status.busy": "2023-04-26T16:27:18.623270Z",
     "iopub.status.idle": "2023-04-26T16:27:18.915874Z",
     "shell.execute_reply": "2023-04-26T16:27:18.914649Z"
    },
    "papermill": {
     "duration": 0.313742,
     "end_time": "2023-04-26T16:27:18.918478",
     "exception": false,
     "start_time": "2023-04-26T16:27:18.604736",
     "status": "completed"
    },
    "tags": []
   },
   "outputs": [
    {
     "data": {
      "image/png": "[encoded data removed]",
      "text/plain": [
       "<Figure size 1000x500 with 1 Axes>"
      ]
     },
     "metadata": {},
     "output_type": "display_data"
    }
   ],
   "source": [
    "# Setting the plot's figure size\n",
    "fig, ax = plt.subplots(figsize=(10, 5))\n",
    "\n",
    "# Create a horizontal bar plot showing the average number of plays per active player for the top 10 games\n",
    "sns.barplot(data=df_engagement.head(10), x=\"avg_plays_per_player\", y=\"title\", palette=\"Blues_r\")\n",
    "\n",
    "# Add labels showing the popularity of each genre\n",
    "for i, v in enumerate(df_engagement[\"avg_plays_per_player\"].head(10).values):\n",
    "    ax.text(v + 2600 / 2, i, str(round(v)), color=\"black\", ha=\"center\", va=\"center\")\n",
    "\n",
    "# Set the title and axis labels\n",
    "ax.set_title(\"Top 10 games with the highest engagement.\", fontsize=15, pad=30)\n",
    "ax.set_xlabel(\"\")\n",
    "ax.set_ylabel(\"\")\n",
    "\n",
    "# Remove the x-axis tick labels\n",
    "ax.set_xticklabels([])\n",
    "\n",
    "# Increase the fontsize of the y-axis tick labels\n",
    "ax.tick_params(axis=\"y\", labelsize=11)\n",
    "\n",
    "# Remove spines from the right and top sides of the plot\n",
    "sns.despine(right=True, top=True, bottom=True)\n",
    "\n",
    "plt.show()"
   ]
  },
  {
   "cell_type": "markdown",
   "id": "a848b4c3",
   "metadata": {
    "papermill": {
     "duration": 0.017646,
     "end_time": "2023-04-26T16:27:18.954579",
     "exception": false,
     "start_time": "2023-04-26T16:27:18.936933",
     "status": "completed"
    },
    "tags": []
   },
   "source": [
    "## 4. Correlation between backlogging, rating and wishlist variables. \n",
    "---"
   ]
  },
  {
   "cell_type": "markdown",
   "id": "e012221d",
   "metadata": {
    "papermill": {
     "duration": 0.017266,
     "end_time": "2023-04-26T16:27:18.989715",
     "exception": false,
     "start_time": "2023-04-26T16:27:18.972449",
     "status": "completed"
    },
    "tags": []
   },
   "source": [
    "#### Let's first plot a correlation heat map of the dataset "
   ]
  },
  {
   "cell_type": "code",
   "execution_count": 23,
   "id": "2a097011",
   "metadata": {
    "_kg_hide-input": true,
    "execution": {
     "iopub.execute_input": "2023-04-26T16:27:19.028184Z",
     "iopub.status.busy": "2023-04-26T16:27:19.026812Z",
     "iopub.status.idle": "2023-04-26T16:27:19.503267Z",
     "shell.execute_reply": "2023-04-26T16:27:19.501815Z"
    },
    "papermill": {
     "duration": 0.499246,
     "end_time": "2023-04-26T16:27:19.506663",
     "exception": false,
     "start_time": "2023-04-26T16:27:19.007417",
     "status": "completed"
    },
    "tags": []
   },
   "outputs": [
    {
     "data": {
      "image/png": "[encoded data removed]",
      "text/plain": [
       "<Figure size 1500x500 with 2 Axes>"
      ]
     },
     "metadata": {},
     "output_type": "display_data"
    }
   ],
   "source": [
    "# Calculating the correlation matrix\n",
    "corr_matrix = df.corr()\n",
    "\n",
    "# Setting up the figure size\n",
    "fig, ax = plt.subplots(figsize=(15, 5))\n",
    "\n",
    "# Creating the heatmap\n",
    "sns.heatmap(corr_matrix, annot=True, cmap=\"Blues\", annot_kws={\"size\": 12}, ax=ax)\n",
    "\n",
    "# Setting up the title\n",
    "ax.set_title(\"Correlation Heatmap\", fontsize=20, pad=25)\n",
    "\n",
    "# Setting the x-axis and y-axis ticks sizes\n",
    "ax.tick_params(axis=\"both\", labelsize=12)\n",
    "\n",
    "# Showing the plot\n",
    "plt.show()"
   ]
  },
  {
   "cell_type": "markdown",
   "id": "6446482f",
   "metadata": {
    "papermill": {
     "duration": 0.018464,
     "end_time": "2023-04-26T16:27:19.544566",
     "exception": false,
     "start_time": "2023-04-26T16:27:19.526102",
     "status": "completed"
    },
    "tags": []
   },
   "source": [
    "From observing the correlation heatamp, we can see that :\n",
    "\n",
    "- There's a **strong correlation** between backlogs and wishlist.\n",
    "- There's some correlation between rating and backlogs."
   ]
  },
  {
   "cell_type": "markdown",
   "id": "ddd217db",
   "metadata": {
    "papermill": {
     "duration": 0.018522,
     "end_time": "2023-04-26T16:27:19.581913",
     "exception": false,
     "start_time": "2023-04-26T16:27:19.563391",
     "status": "completed"
    },
    "tags": []
   },
   "source": [
    "###  3.1 Correlation between backlogging and wishlist. "
   ]
  },
  {
   "cell_type": "code",
   "execution_count": 24,
   "id": "c7e181e2",
   "metadata": {
    "execution": {
     "iopub.execute_input": "2023-04-26T16:27:19.622953Z",
     "iopub.status.busy": "2023-04-26T16:27:19.622460Z",
     "iopub.status.idle": "2023-04-26T16:27:19.632540Z",
     "shell.execute_reply": "2023-04-26T16:27:19.631366Z"
    },
    "papermill": {
     "duration": 0.034514,
     "end_time": "2023-04-26T16:27:19.635448",
     "exception": false,
     "start_time": "2023-04-26T16:27:19.600934",
     "status": "completed"
    },
    "tags": []
   },
   "outputs": [],
   "source": [
    "# Grouping the data by the 'wishlist' column and calculating the mean of the 'backlogs' column for each group\n",
    "wishlist_backlog = df.groupby(\"wishlist\")[\"backlogs\"].mean().reset_index()\n",
    "\n",
    "# Renaming the columns for clarity\n",
    "wishlist_backlog.columns = [\"Wishlist\", \"Average Backlogs\"]"
   ]
  },
  {
   "cell_type": "code",
   "execution_count": 25,
   "id": "833a0c7d",
   "metadata": {
    "_kg_hide-input": true,
    "execution": {
     "iopub.execute_input": "2023-04-26T16:27:19.676750Z",
     "iopub.status.busy": "2023-04-26T16:27:19.676305Z",
     "iopub.status.idle": "2023-04-26T16:27:19.967669Z",
     "shell.execute_reply": "2023-04-26T16:27:19.966279Z"
    },
    "papermill": {
     "duration": 0.315699,
     "end_time": "2023-04-26T16:27:19.971090",
     "exception": false,
     "start_time": "2023-04-26T16:27:19.655391",
     "status": "completed"
    },
    "tags": []
   },
   "outputs": [
    {
     "data": {
      "image/png": "[encoded data removed]",
      "text/plain": [
       "<Figure size 1000x500 with 1 Axes>"
      ]
     },
     "metadata": {},
     "output_type": "display_data"
    }
   ],
   "source": [
    "# Setting the plot's figure size\n",
    "fig, ax = plt.subplots(figsize=(10, 5))\n",
    "\n",
    "# plotting the scatterplot\n",
    "ax = sns.scatterplot(data=wishlist_backlog, x=\"Wishlist\", y=\"Average Backlogs\", s=50)\n",
    "\n",
    "# Despine the plot from the right and top\n",
    "sns.despine(ax=ax, top=True, right=True)\n",
    "\n",
    "# Add a descriptive title and increase its size and add padding\n",
    "ax.set_title(\"Correlation between Wishlist and Backlogs\", fontsize=20, pad=25)\n",
    "\n",
    "# Increase the size of the x-axis and y-axis ticks\n",
    "ax.tick_params(axis=\"both\", labelsize=12)\n",
    "\n",
    "# Increase the size of the x-axis and y-axis labels and add paddings\n",
    "ax.set_xlabel(\"Wishlist\", fontsize=15, labelpad=20)\n",
    "ax.set_ylabel(\"Backlogs\", fontsize=15, labelpad=20)\n",
    "\n",
    "# Show the plot\n",
    "plt.show();"
   ]
  },
  {
   "cell_type": "markdown",
   "id": "4bc5139b",
   "metadata": {
    "papermill": {
     "duration": 0.021446,
     "end_time": "2023-04-26T16:27:20.012416",
     "exception": false,
     "start_time": "2023-04-26T16:27:19.990970",
     "status": "completed"
    },
    "tags": []
   },
   "source": [
    ">The scatter plot reveals a strong correlation between the 'Wishlist' and 'Backlogs' variables. This is plausible because people who have added a game to their wishlist are likely to have access to it but may not have started playing it yet."
   ]
  },
  {
   "cell_type": "markdown",
   "id": "4288acc7",
   "metadata": {
    "papermill": {
     "duration": 0.020026,
     "end_time": "2023-04-26T16:27:20.054800",
     "exception": false,
     "start_time": "2023-04-26T16:27:20.034774",
     "status": "completed"
    },
    "tags": []
   },
   "source": [
    "###  3.2 Correlation between backlogging and rating. "
   ]
  },
  {
   "cell_type": "code",
   "execution_count": 26,
   "id": "52b81009",
   "metadata": {
    "execution": {
     "iopub.execute_input": "2023-04-26T16:27:20.098309Z",
     "iopub.status.busy": "2023-04-26T16:27:20.096909Z",
     "iopub.status.idle": "2023-04-26T16:27:20.106032Z",
     "shell.execute_reply": "2023-04-26T16:27:20.104968Z"
    },
    "papermill": {
     "duration": 0.034111,
     "end_time": "2023-04-26T16:27:20.109109",
     "exception": false,
     "start_time": "2023-04-26T16:27:20.074998",
     "status": "completed"
    },
    "tags": []
   },
   "outputs": [],
   "source": [
    "# Grouping the data by the 'rating' column and calculating the mean of the 'backlogs' column for each group\n",
    "rating_backlogs = df.groupby(\"rating\")[\"backlogs\"].mean().reset_index()\n",
    "\n",
    "# Renaming the columns for clarity\n",
    "rating_backlogs.columns = [\"Rating\", \"Average Backlogs\"]"
   ]
  },
  {
   "cell_type": "code",
   "execution_count": 27,
   "id": "b5e9b41b",
   "metadata": {
    "_kg_hide-input": true,
    "execution": {
     "iopub.execute_input": "2023-04-26T16:27:20.153179Z",
     "iopub.status.busy": "2023-04-26T16:27:20.152298Z",
     "iopub.status.idle": "2023-04-26T16:27:20.441756Z",
     "shell.execute_reply": "2023-04-26T16:27:20.440331Z"
    },
    "papermill": {
     "duration": 0.315228,
     "end_time": "2023-04-26T16:27:20.444989",
     "exception": false,
     "start_time": "2023-04-26T16:27:20.129761",
     "status": "completed"
    },
    "tags": []
   },
   "outputs": [
    {
     "data": {
      "image/png": "[encoded data removed]",
      "text/plain": [
       "<Figure size 1000x500 with 1 Axes>"
      ]
     },
     "metadata": {},
     "output_type": "display_data"
    }
   ],
   "source": [
    "# Setting the plot's figure size\n",
    "fig, ax = plt.subplots(figsize=(10, 5))\n",
    "\n",
    "# plotting the scatterplot\n",
    "ax = sns.scatterplot(data=rating_backlogs, x=\"Rating\", y=\"Average Backlogs\", s=50)\n",
    "\n",
    "# Despine the plot from the right and top\n",
    "sns.despine(ax=ax, top=True, right=True)\n",
    "\n",
    "# Add a descriptive title and increase its size and add padding\n",
    "ax.set_title(\"Correlation between Rating and Backlogs\", fontsize=20, pad=25)\n",
    "\n",
    "# Increase the size of the x-axis and y-axis ticks\n",
    "ax.tick_params(axis=\"both\", labelsize=15)\n",
    "\n",
    "# Increase the size of the x-axis and y-axis labels and add paddings\n",
    "ax.set_xlabel(\"Rating\", fontsize=15, labelpad=20)\n",
    "ax.set_ylabel(\"Backlogs\", fontsize=15, labelpad=20)\n",
    "\n",
    "# Show the plot\n",
    "plt.show();"
   ]
  },
  {
   "cell_type": "markdown",
   "id": "cd4aec8c",
   "metadata": {
    "papermill": {
     "duration": 0.020099,
     "end_time": "2023-04-26T16:27:20.485786",
     "exception": false,
     "start_time": "2023-04-26T16:27:20.465687",
     "status": "completed"
    },
    "tags": []
   },
   "source": [
    ">The correlation between the 'Rating' and 'Backlogs' variables appears to be positive. As the average number of backlogs increases, so does the rating. This may be due to people gaining access to games with high ratings but not starting them."
   ]
  },
  {
   "cell_type": "markdown",
   "id": "745e8bc1",
   "metadata": {
    "id": "dHPOHyb8mzge",
    "papermill": {
     "duration": 0.019865,
     "end_time": "2023-04-26T16:27:20.526318",
     "exception": false,
     "start_time": "2023-04-26T16:27:20.506453",
     "status": "completed"
    },
    "tags": []
   },
   "source": [
    "# Conclusion\n",
    "\n",
    "My analysis of popular video games from 1980 to 2023 revealed several key insights. We found that the most popular video game genres are **Adventure**, followed by RPG, Platform, and Shooter. Within these genres, some of the most popular games include **Metal Gear Solid 2: Sons of Liberty** (Adventure), Chrome Dino (Arcade), Devil May Cry (Brawler), and Mario Party Superstars (Card & Board Game).\n",
    "\n",
    "I also observed that the average rating of video games experienced **significant fluctuations from 1980 through the 1990s**, with a notable decline in the late 1980s. However,** starting in the 2000s, the average rating has become more stable and consistent**.\n",
    "\n",
    "In terms of player engagement, I found that **Fruit Ninja Classic** had the highest level of engagement, followed by Slither.io, Happy Wheels, and Ms. Pac-Man.\n",
    "\n",
    "Our analysis also revealed a strong correlation between the 'Wishlist' and 'Backlogs' variables. **This suggests that people who have added a game to their wishlist are likely to have access to it but may not have started playing it yet**. Furthermore, we found that **games with high ratings and high wishlist counts tend to have the most backlogged players**.\n",
    "\n",
    "---\n",
    "\n",
    "## Findings Summary\n",
    "---\n",
    "\n",
    "1. The most popular video game genres are Adventure, followed by RPG, Platform, and Shooter.\n",
    "\n",
    "2. Some of the most popular games within these genres include Metal Gear Solid 2: Sons of Liberty (Adventure), Chrome Dino (Arcade), Devil May Cry (Brawler), and Mario Party Superstars (Card & Board Game).\n",
    "\n",
    "3. The average rating of video games experienced significant fluctuations from 1980 through the 1990s but has become more stable and consistent since the 2000s.\n",
    "\n",
    "4. Fruit Ninja Classic had the highest level of player engagement, followed by Slither.io, Happy Wheels, and Ms. Pac-Man.\n",
    "\n",
    "5. There is a strong correlation between the 'Wishlist' and 'Backlogs' variables.\n",
    "\n",
    "6. Games with high ratings and high wishlist counts tend to have the most backlogged players."
   ]
  },
  {
   "cell_type": "markdown",
   "id": "c2b22a59",
   "metadata": {
    "papermill": {
     "duration": 0.020301,
     "end_time": "2023-04-26T16:27:20.567065",
     "exception": false,
     "start_time": "2023-04-26T16:27:20.546764",
     "status": "completed"
    },
    "tags": []
   },
   "source": [
    "# Acknowledgement \n",
    "\n",
    "- [Find the max value of a column and return the corresponding row values - Stackoverflow.](https://stackoverflow.com/questions/15741759/find-maximum-value-of-a-column-and-return-the-corresponding-row-values-using-pan#:~:text=Assuming%20df%20has%20a%20unique%20index%2C%20this%20gives,so%20df.loc%20may%20return%20more%20than%20one%20row.)\n",
    "\n",
    "- [pandas.DataFrame.idxmax - Pandas Documentation.](https://pandas.pydata.org/pandas-docs/stable/reference/api/pandas.DataFrame.idxmax.html)\n",
    "\n",
    "- [Barplot data labels inspiration - (Stackoverflow).](https://stackoverflow.com/questions/59213470/how-to-annotate-text-on-horizontal-seaborn-barplot)\n",
    "\n",
    "- [Banner Design - Canva.](https://canva.com/)\n"
   ]
  }
 ],
 "metadata": {
  "kernelspec": {
   "display_name": "Python 3",
   "language": "python",
   "name": "python3"
  },
  "language_info": {
   "codemirror_mode": {
    "name": "ipython",
    "version": 3
   },
   "file_extension": ".py",
   "mimetype": "text/x-python",
   "name": "python",
   "nbconvert_exporter": "python",
   "pygments_lexer": "ipython3",
   "version": "3.7.12"
  },
  "papermill": {
   "default_parameters": {},
   "duration": 17.023895,
   "end_time": "2023-04-26T16:27:21.413899",
   "environment_variables": {},
   "exception": null,
   "input_path": "__notebook__.ipynb",
   "output_path": "__notebook__.ipynb",
   "parameters": {},
   "start_time": "2023-04-26T16:27:04.390004",
   "version": "2.4.0"
  }
 },
 "nbformat": 4,
 "nbformat_minor": 5
}
